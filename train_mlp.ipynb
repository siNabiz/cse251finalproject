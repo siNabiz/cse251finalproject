{
 "cells": [
  {
   "cell_type": "code",
   "execution_count": 1,
   "id": "ea9f615f-1564-401f-9a74-8ac98f9bbeab",
   "metadata": {
    "id": "ea9f615f-1564-401f-9a74-8ac98f9bbeab",
    "jupyter": {
     "outputs_hidden": true
    },
    "tags": []
   },
   "outputs": [],
   "source": [
    "import os\n",
    "# os.environ[\"CUDA_DEVICE_ORDER\"] = \"PCI_BUS_ID\"\n",
    "# os.environ[\"CUDA_VISIBLE_DEVICES\"] = \"1\"\n",
    "\n",
    "import pickle\n",
    "from glob import glob\n",
    "import numpy as np\n",
    "import torch\n",
    "import torch.nn as nn\n",
    "import pandas as pd\n",
    "import time\n",
    "\n",
    "device = torch.device(\"cuda\" if torch.cuda.is_available() else \"cpu\")"
   ]
  },
  {
   "cell_type": "code",
   "execution_count": 2,
   "id": "OmXuKzlHSJhe",
   "metadata": {
    "colab": {
     "base_uri": "https://localhost:8080/"
    },
    "executionInfo": {
     "elapsed": 4,
     "status": "ok",
     "timestamp": 1682873382169,
     "user": {
      "displayName": "Tapan Sahni",
      "userId": "00703842257004975160"
     },
     "user_tz": 420
    },
    "id": "OmXuKzlHSJhe",
    "outputId": "5461c0b0-aa0e-40ae-b5b9-c8b24f21bc42"
   },
   "outputs": [
    {
     "name": "stdout",
     "output_type": "stream",
     "text": [
      "cuda\n"
     ]
    }
   ],
   "source": [
    "print(device)"
   ]
  },
  {
   "cell_type": "markdown",
   "id": "f44b0f51-0779-49dc-bcab-5c284039d6fd",
   "metadata": {
    "id": "f44b0f51-0779-49dc-bcab-5c284039d6fd"
   },
   "source": [
    "# MLP "
   ]
  },
  {
   "cell_type": "code",
   "execution_count": 3,
   "id": "68fac99f-9f5e-4fb5-ba6c-e22cc6f8f8be",
   "metadata": {
    "id": "68fac99f-9f5e-4fb5-ba6c-e22cc6f8f8be"
   },
   "outputs": [],
   "source": [
    "class MLPNet(nn.Module):\n",
    "    def __init__(self, \n",
    "                 in_dim, # input dimension\n",
    "                 out_dim, # output dimension\n",
    "                 hidden_dim, # hidden dimension\n",
    "                 num_layers # number of layers\n",
    "                ):\n",
    "        \n",
    "        super(MLPNet, self).__init__()\n",
    "        \n",
    "        self.model = [nn.Linear(in_dim, hidden_dim), nn.ReLU()]\n",
    "        \n",
    "        for i in range(num_layers-2):\n",
    "            self.model += [nn.Linear(hidden_dim, hidden_dim), nn.ReLU()]\n",
    "        \n",
    "        self.model += [nn.Linear(hidden_dim, out_dim)]\n",
    "        \n",
    "        self.model = nn.Sequential(*self.model)\n",
    "        \n",
    "    def forward(self, inp):\n",
    "        \n",
    "        # Flatten the last two dimensions\n",
    "        inp = inp.reshape(inp.shape[0], -1)\n",
    "        \n",
    "        out = self.model(inp)\n",
    "        \n",
    "        #bz x outputlength x 2\n",
    "        return out.reshape(inp.shape[0], -1, 2)"
   ]
  },
  {
   "cell_type": "code",
   "execution_count": 4,
   "id": "43901b7a-983c-49ca-b02a-e22d812f3cab",
   "metadata": {
    "id": "43901b7a-983c-49ca-b02a-e22d812f3cab"
   },
   "outputs": [],
   "source": [
    "# Autogressive vs. direct mapping\n",
    "# Batch Norm? "
   ]
  },
  {
   "cell_type": "markdown",
   "id": "1c020112-bb96-45d0-abf4-332956e8e544",
   "metadata": {
    "id": "1c020112-bb96-45d0-abf4-332956e8e544"
   },
   "source": [
    "# Dataset"
   ]
  },
  {
   "cell_type": "code",
   "execution_count": 5,
   "id": "cc5190e9-67a3-4e83-af0c-2f79f9cab867",
   "metadata": {
    "id": "cc5190e9-67a3-4e83-af0c-2f79f9cab867"
   },
   "outputs": [],
   "source": [
    "class ArgoverseDataset(torch.utils.data.Dataset):\n",
    "    \"\"\"Dataset class for Argoverse\"\"\"\n",
    "    \n",
    "    def __init__(self, \n",
    "                 data_path,\n",
    "                 sample_indices):\n",
    "        super(ArgoverseDataset, self).__init__()\n",
    "        \n",
    "        self.data_path = data_path\n",
    "        self.sample_indices = sample_indices\n",
    "        self.pkl_list = glob(os.path.join(self.data_path, '*'))\n",
    "        self.pkl_list.sort()\n",
    "        \n",
    "    def __len__(self):\n",
    "        return len(self.sample_indices)\n",
    "\n",
    "    def __getitem__(self, idx):\n",
    "        \n",
    "        # Load one scene\n",
    "        pkl_path = self.pkl_list[self.sample_indices[idx]]\n",
    "        with open(pkl_path, 'rb') as f:\n",
    "            scene = pickle.load(f)\n",
    "            \n",
    "        # the index of agent to be predicted \n",
    "        pred_id = np.where(scene[\"track_id\"] == scene['agent_id'])[0][0]\n",
    "        \n",
    "        valid_p_ins = scene['p_in'][np.where(scene['car_mask'] == 1)[0]]\n",
    "        valid_v_ins = scene['v_in'][np.where(scene['car_mask'] == 1)[0]]\n",
    "        valid_p_outs = scene['p_out'][np.where(scene['car_mask'] == 1)[0]]\n",
    "        valid_v_outs = scene['v_out'][np.where(scene['car_mask'] == 1)[0]]\n",
    "        # input: p_in & v_in; output: p_out\n",
    "        inp_scene = np.dstack([valid_p_ins, valid_v_ins])\n",
    "        out_scene = np.dstack([valid_p_outs, valid_v_outs])\n",
    "        \n",
    "        # Normalization\n",
    "        all_ps = np.concatenate((valid_p_ins,valid_p_outs), axis=1)\n",
    "        all_ps = np.dstack([all_ps,all_ps])\n",
    "#         min_vecs = np.min(inp_scene, axis = (0,1))\n",
    "#         max_vecs = np.max(inp_scene, axis = (0,1))\n",
    "        min_vecs = np.min(all_ps, axis = (0,1))\n",
    "        max_vecs = np.max(all_ps, axis = (0,1))\n",
    "        \n",
    "        # Normalize by vectors\n",
    "        inp = (inp_scene[pred_id] - min_vecs)/(max_vecs - min_vecs)\n",
    "        out = (out_scene[pred_id] - min_vecs)/(max_vecs - min_vecs)\n",
    "        \n",
    "        # Convert to float torch tensor\n",
    "        return torch.from_numpy(inp).float(), torch.from_numpy(out[:,:2]).float()"
   ]
  },
  {
   "cell_type": "code",
   "execution_count": 6,
   "id": "16e5f5c2-86ff-4a6b-a585-117d0d08b8b2",
   "metadata": {
    "id": "16e5f5c2-86ff-4a6b-a585-117d0d08b8b2"
   },
   "outputs": [],
   "source": [
    "# Try different ways of normalization\n",
    "# Leverage other features. "
   ]
  },
  {
   "cell_type": "markdown",
   "id": "c13ae604-526c-4fff-a672-f09cd103f7c2",
   "metadata": {
    "id": "c13ae604-526c-4fff-a672-f09cd103f7c2"
   },
   "source": [
    "# Hyperparameter"
   ]
  },
  {
   "cell_type": "code",
   "execution_count": 7,
   "id": "913d832f-4050-4c23-9d74-114595112f13",
   "metadata": {
    "id": "913d832f-4050-4c23-9d74-114595112f13"
   },
   "outputs": [],
   "source": [
    "# Grid/Random Search"
   ]
  },
  {
   "cell_type": "code",
   "execution_count": 8,
   "id": "29e5c051-43a7-4bfd-9ab0-7105693661d3",
   "metadata": {
    "id": "29e5c051-43a7-4bfd-9ab0-7105693661d3"
   },
   "outputs": [],
   "source": [
    "batch_size = 512\n",
    "in_dim = 19*4\n",
    "out_dim = 30*2\n",
    "hidden_dim = 128\n",
    "num_layers = 3\n",
    "learning_rate = 0.01\n",
    "decay_rate = 0.95\n",
    "num_epoch = 1000"
   ]
  },
  {
   "cell_type": "markdown",
   "id": "fb7aa146-1618-4fc2-aec1-2724a09c8bd0",
   "metadata": {
    "id": "fb7aa146-1618-4fc2-aec1-2724a09c8bd0"
   },
   "source": [
    "# Data Loader"
   ]
  },
  {
   "cell_type": "code",
   "execution_count": 9,
   "id": "d589c9c9-c46b-4b70-a515-90dd68669431",
   "metadata": {
    "colab": {
     "base_uri": "https://localhost:8080/"
    },
    "executionInfo": {
     "elapsed": 194,
     "status": "ok",
     "timestamp": 1682203235553,
     "user": {
      "displayName": "Dev Gulati",
      "userId": "17053533454866203676"
     },
     "user_tz": 420
    },
    "id": "d589c9c9-c46b-4b70-a515-90dd68669431",
    "outputId": "34773f5c-9441-4dd7-903b-970cb0e59e99"
   },
   "outputs": [],
   "source": [
    "train_path = \"./train/train\"\n",
    "\n",
    "# total number of scenes\n",
    "indices = np.arange(0, 205942)\n",
    "\n",
    "# train-valid split\n",
    "np.random.shuffle(indices)\n",
    "train_indices = indices[:180000]\n",
    "valid_indices = indices[180000:]\n",
    "\n",
    "# define datasets\n",
    "train_set = ArgoverseDataset(train_path, train_indices)\n",
    "valid_set = ArgoverseDataset(train_path, valid_indices)\n",
    "\n",
    "# create dataloaders\n",
    "train_loader = torch.utils.data.DataLoader(train_set, batch_size=batch_size, shuffle=True, num_workers=4)\n",
    "valid_loader = torch.utils.data.DataLoader(valid_set, batch_size=batch_size, shuffle=False, num_workers=4)"
   ]
  },
  {
   "cell_type": "markdown",
   "id": "6d9c45bc-bdf3-4b5a-82b0-c0752c16cd2b",
   "metadata": {
    "id": "6d9c45bc-bdf3-4b5a-82b0-c0752c16cd2b"
   },
   "source": [
    "# Model, Loss Function and Optimizer"
   ]
  },
  {
   "cell_type": "code",
   "execution_count": 10,
   "id": "8c3cc020-8055-4005-ba6b-585a2e7a5fee",
   "metadata": {
    "id": "8c3cc020-8055-4005-ba6b-585a2e7a5fee"
   },
   "outputs": [],
   "source": [
    "# RNN, LSTM, 1dCNN, Transformer\n",
    "model = MLPNet(in_dim = in_dim, \n",
    "               out_dim = out_dim,\n",
    "               hidden_dim = hidden_dim, \n",
    "               num_layers = num_layers).to(device) # move model to gpu \n",
    "\n",
    "# Adaptive Moment Estimation computes adaptive learning rates for each parameter. \n",
    "# Compute the decaying averages of past and past squared gradients. \n",
    "\n",
    "optimizer = torch.optim.Adam(model.parameters(), lr=learning_rate)\n",
    "scheduler = torch.optim.lr_scheduler.StepLR(optimizer, step_size=1, gamma=decay_rate)  # stepwise learning rate decay\n",
    "loss_fun = nn.MSELoss()"
   ]
  },
  {
   "cell_type": "markdown",
   "id": "1c3392ee-eb57-4d8d-b6ea-49e6f38e3770",
   "metadata": {
    "id": "1c3392ee-eb57-4d8d-b6ea-49e6f38e3770"
   },
   "source": [
    "# Training"
   ]
  },
  {
   "cell_type": "code",
   "execution_count": 11,
   "id": "fa3e350d-9fca-4356-84da-7412d86667c9",
   "metadata": {
    "id": "fa3e350d-9fca-4356-84da-7412d86667c9"
   },
   "outputs": [],
   "source": [
    "def train_epoch(train_loader, model, optimizer, loss_function):\n",
    "    train_mse = []\n",
    "    for inp, tgt in train_loader:\n",
    "        inp = inp.to(device)\n",
    "        tgt = tgt.to(device)\n",
    "        \n",
    "        pred = model(inp)\n",
    "        loss = loss_function(pred, tgt)\n",
    "        train_mse.append(loss.item()) \n",
    "        optimizer.zero_grad()\n",
    "        loss.backward()\n",
    "        optimizer.step()\n",
    "    train_mse = round(np.sqrt(np.mean(train_mse)),5)\n",
    "    return train_mse\n",
    "\n",
    "def eval_epoch(valid_loader, model, loss_function):\n",
    "    valid_mse = []\n",
    "    preds = []\n",
    "    trues = []\n",
    "    with torch.no_grad():\n",
    "        for inp, tgt in valid_loader:\n",
    "            inp = inp.to(device)\n",
    "            tgt = tgt.to(device)\n",
    "            \n",
    "            loss = 0\n",
    "            pred = model(inp)\n",
    "            loss = loss_function(pred, tgt)\n",
    "            preds.append(pred.cpu().data.numpy())\n",
    "            trues.append(tgt.cpu().data.numpy())\n",
    "            valid_mse.append(loss.item())\n",
    "            \n",
    "        preds = np.concatenate(preds, axis = 0)  \n",
    "        trues = np.concatenate(trues, axis = 0)  \n",
    "        valid_mse = round(np.sqrt(np.mean(valid_mse)), 5)\n",
    "    return valid_mse, preds, trues\n"
   ]
  },
  {
   "cell_type": "code",
   "execution_count": 12,
   "id": "f529da48-7092-4096-b95d-a3782e0a7590",
   "metadata": {
    "id": "f529da48-7092-4096-b95d-a3782e0a7590"
   },
   "outputs": [],
   "source": [
    "# Learning Rate Decay\n",
    "# Dropout\n",
    "# L1/L2 Regulization"
   ]
  },
  {
   "cell_type": "code",
   "execution_count": 13,
   "id": "f5c15057-a83e-44b0-af97-cf28f3c98044",
   "metadata": {
    "colab": {
     "base_uri": "https://localhost:8080/",
     "height": 554
    },
    "executionInfo": {
     "elapsed": 610,
     "status": "error",
     "timestamp": 1682203248929,
     "user": {
      "displayName": "Dev Gulati",
      "userId": "17053533454866203676"
     },
     "user_tz": 420
    },
    "id": "f5c15057-a83e-44b0-af97-cf28f3c98044",
    "outputId": "c23108e3-db6e-4d40-8242-42cf968e5c13"
   },
   "outputs": [
    {
     "name": "stdout",
     "output_type": "stream",
     "text": [
      "Epoch 1 | T: 0.08 | Train RMSE: 0.39841 | Valid RMSE: 0.22056\n",
      "Epoch 2 | T: 0.07 | Train RMSE: 0.22568 | Valid RMSE: 0.21521\n",
      "Epoch 3 | T: 0.07 | Train RMSE: 0.21107 | Valid RMSE: 0.19676\n",
      "Epoch 4 | T: 0.07 | Train RMSE: 0.20229 | Valid RMSE: 0.19899\n",
      "Epoch 5 | T: 0.07 | Train RMSE: 0.17364 | Valid RMSE: 0.30536\n",
      "Epoch 6 | T: 0.07 | Train RMSE: 0.14732 | Valid RMSE: 0.15107\n",
      "Epoch 7 | T: 0.07 | Train RMSE: 0.13440 | Valid RMSE: 0.12988\n",
      "Epoch 8 | T: 0.07 | Train RMSE: 0.12100 | Valid RMSE: 0.11892\n",
      "Epoch 9 | T: 0.07 | Train RMSE: 0.12369 | Valid RMSE: 0.14330\n",
      "Epoch 10 | T: 0.07 | Train RMSE: 0.11865 | Valid RMSE: 0.12134\n",
      "Epoch 11 | T: 0.07 | Train RMSE: 0.11104 | Valid RMSE: 0.09573\n",
      "Epoch 12 | T: 0.07 | Train RMSE: 0.10330 | Valid RMSE: 0.09408\n",
      "Epoch 13 | T: 0.07 | Train RMSE: 0.10191 | Valid RMSE: 0.09650\n",
      "Epoch 14 | T: 0.07 | Train RMSE: 0.10122 | Valid RMSE: 0.09471\n",
      "Epoch 15 | T: 0.07 | Train RMSE: 0.10049 | Valid RMSE: 0.10140\n",
      "Epoch 16 | T: 0.07 | Train RMSE: 0.09864 | Valid RMSE: 0.10851\n",
      "Epoch 17 | T: 0.07 | Train RMSE: 0.08321 | Valid RMSE: 0.07473\n",
      "Epoch 18 | T: 0.07 | Train RMSE: 0.08294 | Valid RMSE: 0.08294\n",
      "Epoch 19 | T: 0.07 | Train RMSE: 0.07862 | Valid RMSE: 0.07798\n",
      "Epoch 20 | T: 0.07 | Train RMSE: 0.07795 | Valid RMSE: 0.08390\n",
      "Epoch 21 | T: 0.07 | Train RMSE: 0.07937 | Valid RMSE: 0.07720\n",
      "Epoch 22 | T: 0.07 | Train RMSE: 0.07598 | Valid RMSE: 0.07748\n",
      "Epoch 23 | T: 0.07 | Train RMSE: 0.07800 | Valid RMSE: 0.07996\n",
      "Epoch 24 | T: 0.07 | Train RMSE: 0.07573 | Valid RMSE: 0.07645\n",
      "Epoch 25 | T: 0.07 | Train RMSE: 0.07306 | Valid RMSE: 0.07205\n",
      "Epoch 26 | T: 0.07 | Train RMSE: 0.06972 | Valid RMSE: 0.07089\n",
      "Epoch 27 | T: 0.07 | Train RMSE: 0.06727 | Valid RMSE: 0.06711\n",
      "Epoch 28 | T: 0.07 | Train RMSE: 0.06732 | Valid RMSE: 0.06812\n",
      "Epoch 29 | T: 0.07 | Train RMSE: 0.06671 | Valid RMSE: 0.06443\n",
      "Epoch 30 | T: 0.07 | Train RMSE: 0.06637 | Valid RMSE: 0.07195\n",
      "Epoch 31 | T: 0.07 | Train RMSE: 0.06606 | Valid RMSE: 0.06406\n",
      "Epoch 32 | T: 0.07 | Train RMSE: 0.06520 | Valid RMSE: 0.06531\n",
      "Epoch 33 | T: 0.07 | Train RMSE: 0.06511 | Valid RMSE: 0.06397\n",
      "Epoch 34 | T: 0.07 | Train RMSE: 0.06551 | Valid RMSE: 0.06419\n",
      "Epoch 35 | T: 0.07 | Train RMSE: 0.06461 | Valid RMSE: 0.06476\n",
      "Epoch 36 | T: 0.07 | Train RMSE: 0.06440 | Valid RMSE: 0.06315\n",
      "Epoch 37 | T: 0.07 | Train RMSE: 0.06415 | Valid RMSE: 0.06240\n",
      "Epoch 38 | T: 0.07 | Train RMSE: 0.06398 | Valid RMSE: 0.06247\n",
      "Epoch 39 | T: 0.07 | Train RMSE: 0.06331 | Valid RMSE: 0.06365\n",
      "Epoch 40 | T: 0.07 | Train RMSE: 0.06340 | Valid RMSE: 0.06715\n",
      "Epoch 41 | T: 0.07 | Train RMSE: 0.06398 | Valid RMSE: 0.06313\n",
      "Epoch 42 | T: 0.07 | Train RMSE: 0.06310 | Valid RMSE: 0.06339\n",
      "Epoch 43 | T: 0.07 | Train RMSE: 0.06335 | Valid RMSE: 0.06299\n",
      "Epoch 44 | T: 0.07 | Train RMSE: 0.06266 | Valid RMSE: 0.06193\n",
      "Epoch 45 | T: 0.07 | Train RMSE: 0.06228 | Valid RMSE: 0.06267\n",
      "Epoch 46 | T: 0.07 | Train RMSE: 0.06201 | Valid RMSE: 0.06189\n",
      "Epoch 47 | T: 0.07 | Train RMSE: 0.06217 | Valid RMSE: 0.06288\n",
      "Epoch 48 | T: 0.07 | Train RMSE: 0.06218 | Valid RMSE: 0.06131\n",
      "Epoch 49 | T: 0.07 | Train RMSE: 0.06189 | Valid RMSE: 0.06133\n",
      "Epoch 50 | T: 0.07 | Train RMSE: 0.06158 | Valid RMSE: 0.06619\n",
      "Epoch 51 | T: 0.07 | Train RMSE: 0.06185 | Valid RMSE: 0.06184\n",
      "Epoch 52 | T: 0.07 | Train RMSE: 0.06142 | Valid RMSE: 0.06348\n",
      "Epoch 53 | T: 0.07 | Train RMSE: 0.06155 | Valid RMSE: 0.06179\n",
      "Epoch 54 | T: 0.07 | Train RMSE: 0.06147 | Valid RMSE: 0.06083\n",
      "Epoch 55 | T: 0.07 | Train RMSE: 0.06117 | Valid RMSE: 0.06239\n",
      "Epoch 56 | T: 0.07 | Train RMSE: 0.06120 | Valid RMSE: 0.06086\n",
      "Epoch 57 | T: 0.07 | Train RMSE: 0.06115 | Valid RMSE: 0.06127\n",
      "Epoch 58 | T: 0.07 | Train RMSE: 0.06104 | Valid RMSE: 0.06141\n",
      "Epoch 59 | T: 0.07 | Train RMSE: 0.06099 | Valid RMSE: 0.06110\n",
      "Epoch 60 | T: 0.07 | Train RMSE: 0.06089 | Valid RMSE: 0.06089\n",
      "Epoch 61 | T: 0.07 | Train RMSE: 0.06075 | Valid RMSE: 0.06157\n",
      "Epoch 62 | T: 0.07 | Train RMSE: 0.06083 | Valid RMSE: 0.06148\n",
      "Epoch 63 | T: 0.07 | Train RMSE: 0.06078 | Valid RMSE: 0.06045\n",
      "Epoch 64 | T: 0.07 | Train RMSE: 0.06074 | Valid RMSE: 0.06079\n",
      "Epoch 65 | T: 0.07 | Train RMSE: 0.06041 | Valid RMSE: 0.06024\n",
      "Epoch 66 | T: 0.07 | Train RMSE: 0.06049 | Valid RMSE: 0.06208\n",
      "Epoch 67 | T: 0.07 | Train RMSE: 0.06056 | Valid RMSE: 0.06256\n",
      "Epoch 68 | T: 0.07 | Train RMSE: 0.06040 | Valid RMSE: 0.06127\n",
      "Epoch 69 | T: 0.07 | Train RMSE: 0.06039 | Valid RMSE: 0.06120\n",
      "Epoch 70 | T: 0.07 | Train RMSE: 0.06025 | Valid RMSE: 0.06010\n",
      "Epoch 71 | T: 0.07 | Train RMSE: 0.06036 | Valid RMSE: 0.06093\n",
      "Epoch 72 | T: 0.07 | Train RMSE: 0.06030 | Valid RMSE: 0.06075\n",
      "Epoch 73 | T: 0.07 | Train RMSE: 0.06019 | Valid RMSE: 0.06037\n",
      "Epoch 74 | T: 0.07 | Train RMSE: 0.06019 | Valid RMSE: 0.06021\n",
      "Epoch 75 | T: 0.07 | Train RMSE: 0.06019 | Valid RMSE: 0.06017\n",
      "Epoch 76 | T: 0.07 | Train RMSE: 0.06016 | Valid RMSE: 0.06049\n",
      "Epoch 77 | T: 0.07 | Train RMSE: 0.06004 | Valid RMSE: 0.06047\n",
      "Epoch 78 | T: 0.07 | Train RMSE: 0.06001 | Valid RMSE: 0.06003\n",
      "Epoch 79 | T: 0.07 | Train RMSE: 0.05999 | Valid RMSE: 0.06012\n",
      "Epoch 80 | T: 0.07 | Train RMSE: 0.06003 | Valid RMSE: 0.06049\n",
      "Epoch 81 | T: 0.07 | Train RMSE: 0.06004 | Valid RMSE: 0.06021\n",
      "Epoch 82 | T: 0.07 | Train RMSE: 0.06004 | Valid RMSE: 0.06037\n",
      "Epoch 83 | T: 0.07 | Train RMSE: 0.05994 | Valid RMSE: 0.06033\n",
      "Epoch 84 | T: 0.07 | Train RMSE: 0.05999 | Valid RMSE: 0.06019\n",
      "Epoch 85 | T: 0.07 | Train RMSE: 0.05989 | Valid RMSE: 0.06009\n",
      "Epoch 86 | T: 0.07 | Train RMSE: 0.05988 | Valid RMSE: 0.05993\n",
      "Epoch 87 | T: 0.07 | Train RMSE: 0.05984 | Valid RMSE: 0.06027\n",
      "Epoch 88 | T: 0.07 | Train RMSE: 0.05981 | Valid RMSE: 0.05988\n",
      "Epoch 89 | T: 0.07 | Train RMSE: 0.05978 | Valid RMSE: 0.05983\n",
      "Epoch 90 | T: 0.07 | Train RMSE: 0.05982 | Valid RMSE: 0.05997\n",
      "Epoch 91 | T: 0.07 | Train RMSE: 0.05978 | Valid RMSE: 0.05995\n",
      "Epoch 92 | T: 0.07 | Train RMSE: 0.05976 | Valid RMSE: 0.05994\n",
      "Epoch 93 | T: 0.07 | Train RMSE: 0.05970 | Valid RMSE: 0.05990\n",
      "Epoch 94 | T: 0.07 | Train RMSE: 0.05970 | Valid RMSE: 0.06016\n",
      "Epoch 95 | T: 0.07 | Train RMSE: 0.05971 | Valid RMSE: 0.06005\n",
      "Epoch 96 | T: 0.07 | Train RMSE: 0.05967 | Valid RMSE: 0.05975\n",
      "Epoch 97 | T: 0.07 | Train RMSE: 0.05970 | Valid RMSE: 0.06006\n",
      "Epoch 98 | T: 0.07 | Train RMSE: 0.05968 | Valid RMSE: 0.05984\n",
      "Epoch 99 | T: 0.07 | Train RMSE: 0.05967 | Valid RMSE: 0.06000\n",
      "Epoch 100 | T: 0.07 | Train RMSE: 0.05962 | Valid RMSE: 0.06010\n"
     ]
    }
   ],
   "source": [
    "train_rmse = []\n",
    "valid_rmse = []\n",
    "min_rmse = 10e8\n",
    "\n",
    "for i in range(num_epoch):\n",
    "    start = time.time()\n",
    "\n",
    "    # model.train() # if you use dropout or batchnorm. \n",
    "    train_rmse.append(train_epoch(train_loader, model, optimizer, loss_fun))\n",
    "\n",
    "    # model.eval()\n",
    "    val_rmse, val_preds, val_trues = eval_epoch(valid_loader, model, loss_fun)\n",
    "    valid_rmse.append(val_rmse)\n",
    "\n",
    "    # save the best model\n",
    "    if valid_rmse[-1] < min_rmse:\n",
    "        min_rmse = valid_rmse[-1] \n",
    "        best_model = model\n",
    "        # torch.save([best_model, i, get_lr(optimizer)], name + \".pth\")\n",
    "\n",
    "    end = time.time()\n",
    "    \n",
    "    # Early Stopping\n",
    "    if (len(train_rmse) > 100 and np.mean(valid_rmse[-5:]) >= np.mean(valid_rmse[-10:-5])):\n",
    "            break       \n",
    "\n",
    "    # Learning Rate Decay        \n",
    "    scheduler.step()\n",
    "    \n",
    "    print(\"Epoch {} | T: {:0.2f} | Train RMSE: {:0.5f} | Valid RMSE: {:0.5f}\".format(i + 1, (end-start) / 60, train_rmse[-1], valid_rmse[-1]))"
   ]
  },
  {
   "cell_type": "markdown",
   "id": "540da579-31a5-462c-826b-e8e1c1a2ddd9",
   "metadata": {
    "id": "540da579-31a5-462c-826b-e8e1c1a2ddd9"
   },
   "source": [
    "# Evaluation and Submission"
   ]
  },
  {
   "cell_type": "code",
   "execution_count": 14,
   "id": "66654867-c45e-4ad2-bdb4-ce1d546ea2d2",
   "metadata": {
    "id": "66654867-c45e-4ad2-bdb4-ce1d546ea2d2",
    "tags": []
   },
   "outputs": [],
   "source": [
    "test_path = \"./val_in/val_in/\"\n",
    "test_pkl_list = glob(os.path.join(test_path, '*'))\n",
    "test_pkl_list.sort()\n",
    "\n",
    "test_preds = []\n",
    "for idx in range(len(test_pkl_list)):\n",
    "    with open(test_pkl_list[idx], 'rb') as f:\n",
    "        test_sample = pickle.load(f)\n",
    "        pred_id = np.where(test_sample[\"track_id\"] == test_sample['agent_id'])[0][0]\n",
    "        inp_scene = np.dstack([test_sample['p_in'], test_sample['v_in']])\n",
    "\n",
    "        # Normalization \n",
    "        min_vecs = np.min(inp_scene, axis = (0,1))\n",
    "        max_vecs = np.max(inp_scene, axis = (0,1))\n",
    "        \n",
    "        inp = (inp_scene[pred_id] - min_vecs)/(max_vecs - min_vecs)\n",
    "        \n",
    "        inp = torch.from_numpy(inp).float().to(device).unsqueeze(0)\n",
    "\n",
    "        preds = best_model(inp).cpu().data.numpy()\n",
    "        \n",
    "        # De-Normalization ! \n",
    "        preds = preds * (max_vecs[:2] - min_vecs[:2]) +  min_vecs[:2]\n",
    "        test_preds.append(preds)"
   ]
  },
  {
   "cell_type": "markdown",
   "id": "f945f2f3-2b73-471f-91e5-87c63eb06a77",
   "metadata": {
    "id": "f945f2f3-2b73-471f-91e5-87c63eb06a77"
   },
   "source": [
    "# Generate Submission File"
   ]
  },
  {
   "cell_type": "code",
   "execution_count": 16,
   "id": "af9c27f8-a65b-48ce-861b-262c3f0422e6",
   "metadata": {
    "id": "af9c27f8-a65b-48ce-861b-262c3f0422e6"
   },
   "outputs": [],
   "source": [
    "# # Submission Files\n",
    "sample_sub = pd.read_csv('sample_submission.csv')"
   ]
  },
  {
   "cell_type": "code",
   "execution_count": 17,
   "id": "f01524a4-5473-4c1f-9991-46fd62162e20",
   "metadata": {
    "id": "f01524a4-5473-4c1f-9991-46fd62162e20"
   },
   "outputs": [],
   "source": [
    "# Convert to int\n",
    "predictions = np.concatenate(test_preds).reshape(len(test_preds), -1).astype(int)\n",
    "sub_df = pd.DataFrame(np.c_[sample_sub[\"ID\"], predictions], columns=[np.r_[[\"ID\"], [\"v\" + str(i) for i in range(1, 61)]]])\n",
    "sub_df.to_csv('test_submission.csv', index=None)"
   ]
  },
  {
   "cell_type": "code",
   "execution_count": null,
   "id": "RGiqLaD1PEDW",
   "metadata": {
    "id": "RGiqLaD1PEDW"
   },
   "outputs": [],
   "source": []
  }
 ],
 "metadata": {
  "accelerator": "GPU",
  "colab": {
   "provenance": []
  },
  "gpuClass": "standard",
  "kernelspec": {
   "display_name": "Python 3 (ipykernel)",
   "language": "python",
   "name": "python3"
  },
  "language_info": {
   "codemirror_mode": {
    "name": "ipython",
    "version": 3
   },
   "file_extension": ".py",
   "mimetype": "text/x-python",
   "name": "python",
   "nbconvert_exporter": "python",
   "pygments_lexer": "ipython3",
   "version": "3.10.6"
  }
 },
 "nbformat": 4,
 "nbformat_minor": 5
}
