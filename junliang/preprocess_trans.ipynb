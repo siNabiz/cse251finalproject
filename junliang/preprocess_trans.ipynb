{
 "cells": [
  {
   "cell_type": "code",
   "execution_count": 1,
   "metadata": {},
   "outputs": [],
   "source": [
    "import pickle\n",
    "from glob import glob\n",
    "import numpy as np\n",
    "import os\n",
    "from tqdm import tqdm"
   ]
  },
  {
   "cell_type": "code",
   "execution_count": 2,
   "metadata": {},
   "outputs": [
    {
     "data": {
      "text/plain": [
       "205942"
      ]
     },
     "execution_count": 2,
     "metadata": {},
     "output_type": "execute_result"
    }
   ],
   "source": [
    "pkl_list = glob(os.path.join('train', '*'))\n",
    "len(pkl_list)"
   ]
  },
  {
   "cell_type": "code",
   "execution_count": 61,
   "metadata": {},
   "outputs": [
    {
     "name": "stderr",
     "output_type": "stream",
     "text": [
      "100%|████████████████████████████████████████████████████████████████████████████| 1000/1000 [00:00<00:00, 1123.37it/s]\n"
     ]
    }
   ],
   "source": [
    "X = []\n",
    "y = []\n",
    "lane = []\n",
    "others = []\n",
    "\n",
    "for pkl_path in tqdm(pkl_list):\n",
    "    with open(pkl_path, 'rb') as f:\n",
    "        scene = pickle.load(f)\n",
    "    \n",
    "    # the index of agent to be predicted \n",
    "    pred_id = np.where(scene[\"track_id\"] == scene['agent_id'])[0][0]\n",
    "    \n",
    "    p_in_raw = scene['p_in'][pred_id]\n",
    "    p_out_raw = scene['p_out'][pred_id]\n",
    "    v_in_raw = scene['v_in'][pred_id]\n",
    "    v_out_raw = scene['v_out'][pred_id]\n",
    "#     print(v_in_raw)\n",
    "    \n",
    "    lane_scene = scene['lane']\n",
    "    \n",
    "    # Normalization\n",
    "    min_vecs = np.min(lane_scene, axis = 0)\n",
    "    max_vecs = np.max(lane_scene, axis = 0)\n",
    "    \n",
    "    # Normalize by vectors\n",
    "    p_in_normalized = (p_in_raw - min_vecs)/(max_vecs - min_vecs)\n",
    "    p_out_normalized = (p_out_raw - min_vecs)/(max_vecs - min_vecs)\n",
    "    v_in_norm = np.linalg.norm(v_in_raw, axis=1, keepdims=True)\n",
    "    v_in_norm = np.where(v_in_norm == 0.0, 1.0, v_in_norm)\n",
    "    v_in_normalized = v_in_raw / v_in_norm\n",
    "    v_out_norm = np.linalg.norm(v_out_raw, axis=1, keepdims=True)\n",
    "    v_out_norm = np.where(v_out_norm == 0.0, 1.0, v_out_norm)\n",
    "    v_out_normalized = v_out_raw / v_out_norm\n",
    "    inp = np.concatenate((p_in_normalized,v_in_normalized),axis=1)\n",
    "    output = np.concatenate((p_out_normalized, v_out_normalized), axis=1)\n",
    "    \n",
    "#     print(v_in_norm.shape)\n",
    "    \n",
    "    p_in_other_raw = np.array([scene['p_in'][i] for i in range(60) if scene['car_mask'][i] and i != pred_id])\n",
    "    p_in_other_normalized = (p_in_other_raw- min_vecs)/(max_vecs - min_vecs)\n",
    "    v_in_other_raw = np.array([scene['v_in'][i] for i in range(60) if scene['car_mask'][i] and i != pred_id])\n",
    "    v_in_other_norm = np.linalg.norm(v_in_other_raw, axis=2, keepdims=True)\n",
    "    v_in_other_norm = np.where(v_in_other_norm == 0.0, 1.0, v_in_other_norm)\n",
    "    v_in_other_normalized = v_in_other_raw / v_in_other_norm\n",
    "    other = np.concatenate((p_in_other_normalized,v_in_other_normalized),axis=2)\n",
    "    other = other.reshape((other.shape[0], -1))\n",
    "    if len(other) < 20:\n",
    "        other = np.concatenate((other, np.zeros((20-len(other), 76))), axis=0)\n",
    "    other = other[:20]\n",
    "    \n",
    "    lane_scene = (lane_scene - min_vecs)/(max_vecs - min_vecs)\n",
    "    if len(lane_scene) < 1000:\n",
    "        lane_scene = np.concatenate((lane_scene, np.zeros((1000-len(lane_scene), 2))), axis=0)\n",
    "    lane_scene = lane_scene[:1000]\n",
    "\n",
    "    X.append(inp)\n",
    "    y.append(output)\n",
    "    lane.append(lane_scene)\n",
    "    others.append(other)"
   ]
  },
  {
   "cell_type": "code",
   "execution_count": 63,
   "metadata": {},
   "outputs": [
    {
     "data": {
      "text/plain": [
       "(1000, 19, 4)"
      ]
     },
     "execution_count": 63,
     "metadata": {},
     "output_type": "execute_result"
    }
   ],
   "source": [
    "npx = np.stack(X)\n",
    "npx.shape"
   ]
  },
  {
   "cell_type": "code",
   "execution_count": 64,
   "metadata": {},
   "outputs": [
    {
     "data": {
      "text/plain": [
       "(1000, 1000, 2)"
      ]
     },
     "execution_count": 64,
     "metadata": {},
     "output_type": "execute_result"
    }
   ],
   "source": [
    "npl = np.stack(lane)\n",
    "npl.shape"
   ]
  },
  {
   "cell_type": "code",
   "execution_count": 65,
   "metadata": {},
   "outputs": [
    {
     "data": {
      "text/plain": [
       "(1000, 20, 76)"
      ]
     },
     "execution_count": 65,
     "metadata": {},
     "output_type": "execute_result"
    }
   ],
   "source": [
    "npo = np.stack(others)\n",
    "npo.shape"
   ]
  },
  {
   "cell_type": "code",
   "execution_count": 66,
   "metadata": {},
   "outputs": [
    {
     "data": {
      "text/plain": [
       "(1000, 30, 2)"
      ]
     },
     "execution_count": 66,
     "metadata": {},
     "output_type": "execute_result"
    }
   ],
   "source": [
    "npy = np.stack(y)\n",
    "npy = npy[..., :2]\n",
    "npy.shape"
   ]
  },
  {
   "cell_type": "code",
   "execution_count": 68,
   "metadata": {},
   "outputs": [],
   "source": [
    "with open('train_X.npy', 'wb') as f:\n",
    "    np.save(f, npx)\n",
    "\n",
    "with open('train_y.npy', 'wb') as f:\n",
    "    np.save(f, npy)\n",
    "\n",
    "with open('train_lane.npy', 'wb') as f:\n",
    "    np.save(f, npl)\n",
    "    \n",
    "with open('train_other.npy', 'wb') as f:\n",
    "    np.save(f, npo)"
   ]
  },
  {
   "cell_type": "code",
   "execution_count": null,
   "metadata": {},
   "outputs": [],
   "source": []
  }
 ],
 "metadata": {
  "kernelspec": {
   "display_name": "Python 3 (ipykernel)",
   "language": "python",
   "name": "python3"
  },
  "language_info": {
   "codemirror_mode": {
    "name": "ipython",
    "version": 3
   },
   "file_extension": ".py",
   "mimetype": "text/x-python",
   "name": "python",
   "nbconvert_exporter": "python",
   "pygments_lexer": "ipython3",
   "version": "3.9.7"
  }
 },
 "nbformat": 4,
 "nbformat_minor": 2
}
