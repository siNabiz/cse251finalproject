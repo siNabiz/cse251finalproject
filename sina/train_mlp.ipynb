{
 "cells": [
  {
   "cell_type": "code",
   "execution_count": 1,
   "id": "ea9f615f-1564-401f-9a74-8ac98f9bbeab",
   "metadata": {
    "id": "ea9f615f-1564-401f-9a74-8ac98f9bbeab",
    "jupyter": {
     "outputs_hidden": true
    },
    "tags": []
   },
   "outputs": [],
   "source": [
    "import os\n",
    "# os.environ[\"CUDA_DEVICE_ORDER\"] = \"PCI_BUS_ID\"\n",
    "# os.environ[\"CUDA_VISIBLE_DEVICES\"] = \"1\"\n",
    "\n",
    "import pickle\n",
    "from glob import glob\n",
    "import numpy as np\n",
    "import torch\n",
    "import torch.nn as nn\n",
    "import pandas as pd\n",
    "import time\n",
    "\n",
    "device = torch.device(\"cuda\" if torch.cuda.is_available() else \"cpu\")"
   ]
  },
  {
   "cell_type": "code",
   "execution_count": 2,
   "id": "OmXuKzlHSJhe",
   "metadata": {
    "colab": {
     "base_uri": "https://localhost:8080/"
    },
    "executionInfo": {
     "elapsed": 4,
     "status": "ok",
     "timestamp": 1682873382169,
     "user": {
      "displayName": "Tapan Sahni",
      "userId": "00703842257004975160"
     },
     "user_tz": 420
    },
    "id": "OmXuKzlHSJhe",
    "outputId": "5461c0b0-aa0e-40ae-b5b9-c8b24f21bc42"
   },
   "outputs": [
    {
     "name": "stdout",
     "output_type": "stream",
     "text": [
      "cuda\n"
     ]
    }
   ],
   "source": [
    "print(device)"
   ]
  },
  {
   "cell_type": "markdown",
   "id": "f44b0f51-0779-49dc-bcab-5c284039d6fd",
   "metadata": {
    "id": "f44b0f51-0779-49dc-bcab-5c284039d6fd"
   },
   "source": [
    "# MLP "
   ]
  },
  {
   "cell_type": "code",
   "execution_count": 3,
   "id": "68fac99f-9f5e-4fb5-ba6c-e22cc6f8f8be",
   "metadata": {
    "id": "68fac99f-9f5e-4fb5-ba6c-e22cc6f8f8be"
   },
   "outputs": [],
   "source": [
    "class MLPNet(nn.Module):\n",
    "    def __init__(self, \n",
    "                 in_dim, # input dimension\n",
    "                 out_dim, # output dimension\n",
    "                 hidden_dim, # hidden dimension\n",
    "                 num_layers # number of layers\n",
    "                ):\n",
    "        \n",
    "        super(MLPNet, self).__init__()\n",
    "        \n",
    "        self.model = [nn.Linear(in_dim, hidden_dim), nn.ReLU()]\n",
    "        \n",
    "        for i in range(num_layers-2):\n",
    "            self.model += [nn.Linear(hidden_dim, hidden_dim), nn.ReLU()]\n",
    "        \n",
    "        self.model += [nn.Linear(hidden_dim, out_dim)]\n",
    "        \n",
    "        self.model = nn.Sequential(*self.model)\n",
    "        \n",
    "    def forward(self, inp):\n",
    "        \n",
    "        # Flatten the last two dimensions\n",
    "        inp = inp.reshape(inp.shape[0], -1)\n",
    "        \n",
    "        out = self.model(inp)\n",
    "        \n",
    "        #bz x outputlength x 2\n",
    "        return out.reshape(inp.shape[0], -1, 2)"
   ]
  },
  {
   "cell_type": "code",
   "execution_count": 4,
   "id": "43901b7a-983c-49ca-b02a-e22d812f3cab",
   "metadata": {
    "id": "43901b7a-983c-49ca-b02a-e22d812f3cab"
   },
   "outputs": [],
   "source": [
    "# Autogressive vs. direct mapping\n",
    "# Batch Norm? "
   ]
  },
  {
   "cell_type": "markdown",
   "id": "1c020112-bb96-45d0-abf4-332956e8e544",
   "metadata": {
    "id": "1c020112-bb96-45d0-abf4-332956e8e544"
   },
   "source": [
    "# Dataset"
   ]
  },
  {
   "cell_type": "code",
   "execution_count": 14,
   "id": "cc5190e9-67a3-4e83-af0c-2f79f9cab867",
   "metadata": {
    "id": "cc5190e9-67a3-4e83-af0c-2f79f9cab867"
   },
   "outputs": [],
   "source": [
    "class ArgoverseDataset(torch.utils.data.Dataset):\n",
    "    \"\"\"Dataset class for Argoverse\"\"\"\n",
    "    \n",
    "    def __init__(self, \n",
    "                 data_path,\n",
    "                 sample_indices):\n",
    "        super(ArgoverseDataset, self).__init__()\n",
    "        \n",
    "        self.data_path = data_path\n",
    "        self.sample_indices = sample_indices\n",
    "        self.pkl_list = glob(os.path.join(self.data_path, '*'))\n",
    "        self.pkl_list.sort()\n",
    "        \n",
    "    def __len__(self):\n",
    "        return len(self.sample_indices)\n",
    "\n",
    "    def __getitem__(self, idx):\n",
    "        \n",
    "        # Load one scene\n",
    "        pkl_path = self.pkl_list[self.sample_indices[idx]]\n",
    "        with open(pkl_path, 'rb') as f:\n",
    "            scene = pickle.load(f)\n",
    "            \n",
    "        # the index of agent to be predicted \n",
    "        pred_id = np.where(scene[\"track_id\"] == scene['agent_id'])[0][0]\n",
    "        \n",
    "        # input: p_in & v_in; output: p_out\n",
    "        p_in_raw = scene['p_in'][pred_id]\n",
    "        p_out_raw = scene['p_out'][pred_id]\n",
    "        v_in_raw = scene['v_in'][pred_id]\n",
    "        v_out_raw = scene['v_out'][pred_id]\n",
    "        lane_scene = scene['lane']\n",
    "        \n",
    "        # Normalization\n",
    "        min_vecs = np.min(lane_scene, axis = 0)\n",
    "        max_vecs = np.max(lane_scene, axis = 0)\n",
    "        \n",
    "        # Normalize by vectors\n",
    "        p_in_normalized = (p_in_raw - min_vecs)/(max_vecs - min_vecs)\n",
    "        p_out_normalized = (p_out_raw - min_vecs)/(max_vecs - min_vecs)\n",
    "        v_in_norm = np.linalg.norm(v_in_raw, axis=1, keepdims=True)\n",
    "        v_in_norm = np.where(v_in_norm == 0.0, 1.0, v_in_norm)\n",
    "        v_in_normalized = v_in_raw / v_in_norm\n",
    "        # v_out_normalized = v_out_raw / np.linalg.norm(v_out_raw, axis=1, keepdims=True)\n",
    "        inp = np.concatenate((p_in_normalized,v_in_normalized),axis=1)\n",
    "        \n",
    "        # Convert to float torch tensor\n",
    "        return torch.from_numpy(inp).float(), torch.from_numpy(p_out_normalized).float()"
   ]
  },
  {
   "cell_type": "code",
   "execution_count": 15,
   "id": "16e5f5c2-86ff-4a6b-a585-117d0d08b8b2",
   "metadata": {
    "id": "16e5f5c2-86ff-4a6b-a585-117d0d08b8b2"
   },
   "outputs": [],
   "source": [
    "# Try different ways of normalization\n",
    "# Leverage other features. "
   ]
  },
  {
   "cell_type": "markdown",
   "id": "c13ae604-526c-4fff-a672-f09cd103f7c2",
   "metadata": {
    "id": "c13ae604-526c-4fff-a672-f09cd103f7c2"
   },
   "source": [
    "# Hyperparameter"
   ]
  },
  {
   "cell_type": "code",
   "execution_count": 16,
   "id": "913d832f-4050-4c23-9d74-114595112f13",
   "metadata": {
    "id": "913d832f-4050-4c23-9d74-114595112f13"
   },
   "outputs": [],
   "source": [
    "# Grid/Random Search"
   ]
  },
  {
   "cell_type": "code",
   "execution_count": 17,
   "id": "29e5c051-43a7-4bfd-9ab0-7105693661d3",
   "metadata": {
    "id": "29e5c051-43a7-4bfd-9ab0-7105693661d3"
   },
   "outputs": [],
   "source": [
    "batch_size = 512\n",
    "in_dim = 19*4\n",
    "out_dim = 30*2\n",
    "hidden_dim = 128\n",
    "num_layers = 3\n",
    "learning_rate = 0.01\n",
    "decay_rate = 0.95\n",
    "num_epoch = 1000"
   ]
  },
  {
   "cell_type": "markdown",
   "id": "fb7aa146-1618-4fc2-aec1-2724a09c8bd0",
   "metadata": {
    "id": "fb7aa146-1618-4fc2-aec1-2724a09c8bd0"
   },
   "source": [
    "# Data Loader"
   ]
  },
  {
   "cell_type": "code",
   "execution_count": 18,
   "id": "d589c9c9-c46b-4b70-a515-90dd68669431",
   "metadata": {
    "colab": {
     "base_uri": "https://localhost:8080/"
    },
    "executionInfo": {
     "elapsed": 194,
     "status": "ok",
     "timestamp": 1682203235553,
     "user": {
      "displayName": "Dev Gulati",
      "userId": "17053533454866203676"
     },
     "user_tz": 420
    },
    "id": "d589c9c9-c46b-4b70-a515-90dd68669431",
    "outputId": "34773f5c-9441-4dd7-903b-970cb0e59e99"
   },
   "outputs": [],
   "source": [
    "train_path = \"./train/train\"\n",
    "\n",
    "# total number of scenes\n",
    "indices = np.arange(0, 205942)\n",
    "\n",
    "# train-valid split\n",
    "np.random.shuffle(indices)\n",
    "train_indices = indices[:180000]\n",
    "valid_indices = indices[180000:]\n",
    "\n",
    "# define datasets\n",
    "train_set = ArgoverseDataset(train_path, train_indices)\n",
    "valid_set = ArgoverseDataset(train_path, valid_indices)\n",
    "\n",
    "# create dataloaders\n",
    "train_loader = torch.utils.data.DataLoader(train_set, batch_size=batch_size, shuffle=True, num_workers=4)\n",
    "valid_loader = torch.utils.data.DataLoader(valid_set, batch_size=batch_size, shuffle=False, num_workers=4)"
   ]
  },
  {
   "cell_type": "markdown",
   "id": "6d9c45bc-bdf3-4b5a-82b0-c0752c16cd2b",
   "metadata": {
    "id": "6d9c45bc-bdf3-4b5a-82b0-c0752c16cd2b"
   },
   "source": [
    "# Model, Loss Function and Optimizer"
   ]
  },
  {
   "cell_type": "code",
   "execution_count": 19,
   "id": "8c3cc020-8055-4005-ba6b-585a2e7a5fee",
   "metadata": {
    "id": "8c3cc020-8055-4005-ba6b-585a2e7a5fee"
   },
   "outputs": [],
   "source": [
    "# RNN, LSTM, 1dCNN, Transformer\n",
    "model = MLPNet(in_dim = in_dim, \n",
    "               out_dim = out_dim,\n",
    "               hidden_dim = hidden_dim, \n",
    "               num_layers = num_layers).to(device) # move model to gpu \n",
    "\n",
    "# Adaptive Moment Estimation computes adaptive learning rates for each parameter. \n",
    "# Compute the decaying averages of past and past squared gradients. \n",
    "\n",
    "optimizer = torch.optim.Adam(model.parameters(), lr=learning_rate)\n",
    "scheduler = torch.optim.lr_scheduler.StepLR(optimizer, step_size=1, gamma=decay_rate)  # stepwise learning rate decay\n",
    "loss_fun = nn.MSELoss()"
   ]
  },
  {
   "cell_type": "markdown",
   "id": "1c3392ee-eb57-4d8d-b6ea-49e6f38e3770",
   "metadata": {
    "id": "1c3392ee-eb57-4d8d-b6ea-49e6f38e3770"
   },
   "source": [
    "# Training"
   ]
  },
  {
   "cell_type": "code",
   "execution_count": 20,
   "id": "fa3e350d-9fca-4356-84da-7412d86667c9",
   "metadata": {
    "id": "fa3e350d-9fca-4356-84da-7412d86667c9"
   },
   "outputs": [],
   "source": [
    "def train_epoch(train_loader, model, optimizer, loss_function):\n",
    "    train_mse = []\n",
    "    for inp, tgt in train_loader:\n",
    "        inp = inp.to(device)\n",
    "        tgt = tgt.to(device)\n",
    "        \n",
    "        pred = model(inp)\n",
    "        loss = loss_function(pred, tgt)\n",
    "        train_mse.append(loss.item()) \n",
    "        optimizer.zero_grad()\n",
    "        loss.backward()\n",
    "        optimizer.step()\n",
    "    train_mse = round(np.sqrt(np.mean(train_mse)),5)\n",
    "    return train_mse\n",
    "\n",
    "def eval_epoch(valid_loader, model, loss_function):\n",
    "    valid_mse = []\n",
    "    preds = []\n",
    "    trues = []\n",
    "    with torch.no_grad():\n",
    "        for inp, tgt in valid_loader:\n",
    "            inp = inp.to(device)\n",
    "            tgt = tgt.to(device)\n",
    "            \n",
    "            loss = 0\n",
    "            pred = model(inp)\n",
    "            loss = loss_function(pred, tgt)\n",
    "            preds.append(pred.cpu().data.numpy())\n",
    "            trues.append(tgt.cpu().data.numpy())\n",
    "            valid_mse.append(loss.item())\n",
    "            \n",
    "        preds = np.concatenate(preds, axis = 0)  \n",
    "        trues = np.concatenate(trues, axis = 0)  \n",
    "        valid_mse = round(np.sqrt(np.mean(valid_mse)), 5)\n",
    "    return valid_mse, preds, trues\n"
   ]
  },
  {
   "cell_type": "code",
   "execution_count": 21,
   "id": "f529da48-7092-4096-b95d-a3782e0a7590",
   "metadata": {
    "id": "f529da48-7092-4096-b95d-a3782e0a7590"
   },
   "outputs": [],
   "source": [
    "# Learning Rate Decay\n",
    "# Dropout\n",
    "# L1/L2 Regulization"
   ]
  },
  {
   "cell_type": "code",
   "execution_count": 22,
   "id": "f5c15057-a83e-44b0-af97-cf28f3c98044",
   "metadata": {
    "colab": {
     "base_uri": "https://localhost:8080/",
     "height": 554
    },
    "executionInfo": {
     "elapsed": 610,
     "status": "error",
     "timestamp": 1682203248929,
     "user": {
      "displayName": "Dev Gulati",
      "userId": "17053533454866203676"
     },
     "user_tz": 420
    },
    "id": "f5c15057-a83e-44b0-af97-cf28f3c98044",
    "outputId": "c23108e3-db6e-4d40-8242-42cf968e5c13"
   },
   "outputs": [
    {
     "name": "stdout",
     "output_type": "stream",
     "text": [
      "Epoch 1 | T: 0.05 | Train RMSE: 0.10204 | Valid RMSE: 0.04791\n",
      "Epoch 2 | T: 0.05 | Train RMSE: 0.04099 | Valid RMSE: 0.03775\n",
      "Epoch 3 | T: 0.05 | Train RMSE: 0.03837 | Valid RMSE: 0.03776\n",
      "Epoch 4 | T: 0.05 | Train RMSE: 0.03722 | Valid RMSE: 0.03520\n",
      "Epoch 5 | T: 0.05 | Train RMSE: 0.03719 | Valid RMSE: 0.03551\n",
      "Epoch 6 | T: 0.05 | Train RMSE: 0.03574 | Valid RMSE: 0.03473\n",
      "Epoch 7 | T: 0.05 | Train RMSE: 0.03553 | Valid RMSE: 0.03701\n",
      "Epoch 8 | T: 0.05 | Train RMSE: 0.03547 | Valid RMSE: 0.03794\n",
      "Epoch 9 | T: 0.05 | Train RMSE: 0.03507 | Valid RMSE: 0.03516\n",
      "Epoch 10 | T: 0.05 | Train RMSE: 0.03442 | Valid RMSE: 0.03341\n",
      "Epoch 11 | T: 0.05 | Train RMSE: 0.03419 | Valid RMSE: 0.03284\n",
      "Epoch 12 | T: 0.05 | Train RMSE: 0.03385 | Valid RMSE: 0.03301\n",
      "Epoch 13 | T: 0.05 | Train RMSE: 0.03384 | Valid RMSE: 0.03377\n",
      "Epoch 14 | T: 0.05 | Train RMSE: 0.03344 | Valid RMSE: 0.03273\n",
      "Epoch 15 | T: 0.05 | Train RMSE: 0.03310 | Valid RMSE: 0.03321\n",
      "Epoch 16 | T: 0.05 | Train RMSE: 0.03308 | Valid RMSE: 0.03359\n",
      "Epoch 17 | T: 0.05 | Train RMSE: 0.03293 | Valid RMSE: 0.03493\n",
      "Epoch 18 | T: 0.05 | Train RMSE: 0.03268 | Valid RMSE: 0.03412\n",
      "Epoch 19 | T: 0.05 | Train RMSE: 0.03255 | Valid RMSE: 0.03196\n",
      "Epoch 20 | T: 0.05 | Train RMSE: 0.03225 | Valid RMSE: 0.03337\n",
      "Epoch 21 | T: 0.05 | Train RMSE: 0.03228 | Valid RMSE: 0.03521\n",
      "Epoch 22 | T: 0.05 | Train RMSE: 0.03191 | Valid RMSE: 0.03233\n",
      "Epoch 23 | T: 0.05 | Train RMSE: 0.03190 | Valid RMSE: 0.03108\n",
      "Epoch 24 | T: 0.05 | Train RMSE: 0.03151 | Valid RMSE: 0.03190\n",
      "Epoch 25 | T: 0.05 | Train RMSE: 0.03143 | Valid RMSE: 0.03147\n",
      "Epoch 26 | T: 0.05 | Train RMSE: 0.03127 | Valid RMSE: 0.03163\n",
      "Epoch 27 | T: 0.05 | Train RMSE: 0.03121 | Valid RMSE: 0.03127\n",
      "Epoch 28 | T: 0.05 | Train RMSE: 0.03104 | Valid RMSE: 0.03192\n",
      "Epoch 29 | T: 0.05 | Train RMSE: 0.03079 | Valid RMSE: 0.03083\n",
      "Epoch 30 | T: 0.05 | Train RMSE: 0.03069 | Valid RMSE: 0.03133\n",
      "Epoch 31 | T: 0.05 | Train RMSE: 0.03053 | Valid RMSE: 0.03108\n",
      "Epoch 32 | T: 0.05 | Train RMSE: 0.03047 | Valid RMSE: 0.03028\n",
      "Epoch 33 | T: 0.05 | Train RMSE: 0.03028 | Valid RMSE: 0.03025\n",
      "Epoch 34 | T: 0.05 | Train RMSE: 0.03022 | Valid RMSE: 0.03125\n",
      "Epoch 35 | T: 0.05 | Train RMSE: 0.03000 | Valid RMSE: 0.03013\n",
      "Epoch 36 | T: 0.05 | Train RMSE: 0.02984 | Valid RMSE: 0.03138\n",
      "Epoch 37 | T: 0.05 | Train RMSE: 0.02977 | Valid RMSE: 0.02957\n",
      "Epoch 38 | T: 0.05 | Train RMSE: 0.02970 | Valid RMSE: 0.02987\n",
      "Epoch 39 | T: 0.05 | Train RMSE: 0.02962 | Valid RMSE: 0.02960\n",
      "Epoch 40 | T: 0.05 | Train RMSE: 0.02949 | Valid RMSE: 0.02960\n",
      "Epoch 41 | T: 0.05 | Train RMSE: 0.02953 | Valid RMSE: 0.03031\n",
      "Epoch 42 | T: 0.05 | Train RMSE: 0.02925 | Valid RMSE: 0.02962\n",
      "Epoch 43 | T: 0.05 | Train RMSE: 0.02918 | Valid RMSE: 0.02953\n",
      "Epoch 44 | T: 0.05 | Train RMSE: 0.02911 | Valid RMSE: 0.02935\n",
      "Epoch 45 | T: 0.05 | Train RMSE: 0.02905 | Valid RMSE: 0.03026\n",
      "Epoch 46 | T: 0.05 | Train RMSE: 0.02901 | Valid RMSE: 0.02953\n",
      "Epoch 47 | T: 0.05 | Train RMSE: 0.02892 | Valid RMSE: 0.02918\n",
      "Epoch 48 | T: 0.05 | Train RMSE: 0.02884 | Valid RMSE: 0.02983\n",
      "Epoch 49 | T: 0.05 | Train RMSE: 0.02885 | Valid RMSE: 0.02932\n",
      "Epoch 50 | T: 0.05 | Train RMSE: 0.02872 | Valid RMSE: 0.02949\n",
      "Epoch 51 | T: 0.05 | Train RMSE: 0.02868 | Valid RMSE: 0.02909\n",
      "Epoch 52 | T: 0.05 | Train RMSE: 0.02855 | Valid RMSE: 0.02944\n",
      "Epoch 53 | T: 0.05 | Train RMSE: 0.02855 | Valid RMSE: 0.02936\n",
      "Epoch 54 | T: 0.05 | Train RMSE: 0.02851 | Valid RMSE: 0.02897\n",
      "Epoch 55 | T: 0.05 | Train RMSE: 0.02846 | Valid RMSE: 0.02895\n",
      "Epoch 56 | T: 0.05 | Train RMSE: 0.02843 | Valid RMSE: 0.02954\n",
      "Epoch 57 | T: 0.05 | Train RMSE: 0.02829 | Valid RMSE: 0.02940\n",
      "Epoch 58 | T: 0.05 | Train RMSE: 0.02831 | Valid RMSE: 0.02928\n",
      "Epoch 59 | T: 0.05 | Train RMSE: 0.02830 | Valid RMSE: 0.02916\n",
      "Epoch 60 | T: 0.05 | Train RMSE: 0.02827 | Valid RMSE: 0.02901\n",
      "Epoch 61 | T: 0.05 | Train RMSE: 0.02819 | Valid RMSE: 0.02905\n",
      "Epoch 62 | T: 0.05 | Train RMSE: 0.02813 | Valid RMSE: 0.02931\n",
      "Epoch 63 | T: 0.05 | Train RMSE: 0.02812 | Valid RMSE: 0.02884\n",
      "Epoch 64 | T: 0.05 | Train RMSE: 0.02809 | Valid RMSE: 0.02936\n",
      "Epoch 65 | T: 0.05 | Train RMSE: 0.02807 | Valid RMSE: 0.02892\n",
      "Epoch 66 | T: 0.05 | Train RMSE: 0.02802 | Valid RMSE: 0.02880\n",
      "Epoch 67 | T: 0.05 | Train RMSE: 0.02797 | Valid RMSE: 0.02877\n",
      "Epoch 68 | T: 0.05 | Train RMSE: 0.02795 | Valid RMSE: 0.02911\n",
      "Epoch 69 | T: 0.05 | Train RMSE: 0.02792 | Valid RMSE: 0.02875\n",
      "Epoch 70 | T: 0.05 | Train RMSE: 0.02792 | Valid RMSE: 0.02876\n",
      "Epoch 71 | T: 0.05 | Train RMSE: 0.02791 | Valid RMSE: 0.02889\n",
      "Epoch 72 | T: 0.05 | Train RMSE: 0.02787 | Valid RMSE: 0.02878\n",
      "Epoch 73 | T: 0.05 | Train RMSE: 0.02786 | Valid RMSE: 0.02873\n",
      "Epoch 74 | T: 0.05 | Train RMSE: 0.02783 | Valid RMSE: 0.02875\n",
      "Epoch 75 | T: 0.05 | Train RMSE: 0.02787 | Valid RMSE: 0.02864\n",
      "Epoch 76 | T: 0.05 | Train RMSE: 0.02781 | Valid RMSE: 0.02873\n",
      "Epoch 77 | T: 0.05 | Train RMSE: 0.02776 | Valid RMSE: 0.02882\n",
      "Epoch 78 | T: 0.05 | Train RMSE: 0.02775 | Valid RMSE: 0.02867\n",
      "Epoch 79 | T: 0.05 | Train RMSE: 0.02771 | Valid RMSE: 0.02868\n",
      "Epoch 80 | T: 0.05 | Train RMSE: 0.02773 | Valid RMSE: 0.02874\n",
      "Epoch 81 | T: 0.05 | Train RMSE: 0.02773 | Valid RMSE: 0.02876\n",
      "Epoch 82 | T: 0.05 | Train RMSE: 0.02768 | Valid RMSE: 0.02872\n",
      "Epoch 83 | T: 0.05 | Train RMSE: 0.02769 | Valid RMSE: 0.02871\n",
      "Epoch 84 | T: 0.05 | Train RMSE: 0.02765 | Valid RMSE: 0.02862\n",
      "Epoch 85 | T: 0.05 | Train RMSE: 0.02765 | Valid RMSE: 0.02869\n",
      "Epoch 86 | T: 0.05 | Train RMSE: 0.02764 | Valid RMSE: 0.02864\n",
      "Epoch 87 | T: 0.05 | Train RMSE: 0.02762 | Valid RMSE: 0.02863\n",
      "Epoch 88 | T: 0.05 | Train RMSE: 0.02761 | Valid RMSE: 0.02864\n",
      "Epoch 89 | T: 0.05 | Train RMSE: 0.02759 | Valid RMSE: 0.02865\n",
      "Epoch 90 | T: 0.05 | Train RMSE: 0.02759 | Valid RMSE: 0.02867\n",
      "Epoch 91 | T: 0.05 | Train RMSE: 0.02759 | Valid RMSE: 0.02864\n",
      "Epoch 92 | T: 0.05 | Train RMSE: 0.02757 | Valid RMSE: 0.02865\n",
      "Epoch 93 | T: 0.05 | Train RMSE: 0.02756 | Valid RMSE: 0.02871\n",
      "Epoch 94 | T: 0.05 | Train RMSE: 0.02756 | Valid RMSE: 0.02875\n",
      "Epoch 95 | T: 0.05 | Train RMSE: 0.02753 | Valid RMSE: 0.02865\n",
      "Epoch 96 | T: 0.05 | Train RMSE: 0.02754 | Valid RMSE: 0.02861\n",
      "Epoch 97 | T: 0.05 | Train RMSE: 0.02752 | Valid RMSE: 0.02859\n",
      "Epoch 98 | T: 0.05 | Train RMSE: 0.02751 | Valid RMSE: 0.02870\n",
      "Epoch 99 | T: 0.05 | Train RMSE: 0.02752 | Valid RMSE: 0.02859\n",
      "Epoch 100 | T: 0.05 | Train RMSE: 0.02749 | Valid RMSE: 0.02869\n",
      "Epoch 101 | T: 0.05 | Train RMSE: 0.02750 | Valid RMSE: 0.02859\n",
      "Epoch 102 | T: 0.05 | Train RMSE: 0.02748 | Valid RMSE: 0.02860\n",
      "Epoch 103 | T: 0.05 | Train RMSE: 0.02748 | Valid RMSE: 0.02861\n",
      "Epoch 104 | T: 0.05 | Train RMSE: 0.02748 | Valid RMSE: 0.02863\n",
      "Epoch 105 | T: 0.05 | Train RMSE: 0.02748 | Valid RMSE: 0.02859\n",
      "Epoch 106 | T: 0.05 | Train RMSE: 0.02746 | Valid RMSE: 0.02859\n",
      "Epoch 107 | T: 0.05 | Train RMSE: 0.02748 | Valid RMSE: 0.02859\n",
      "Epoch 108 | T: 0.05 | Train RMSE: 0.02745 | Valid RMSE: 0.02857\n",
      "Epoch 109 | T: 0.05 | Train RMSE: 0.02745 | Valid RMSE: 0.02859\n",
      "Epoch 110 | T: 0.05 | Train RMSE: 0.02744 | Valid RMSE: 0.02858\n",
      "Epoch 111 | T: 0.05 | Train RMSE: 0.02744 | Valid RMSE: 0.02857\n",
      "Epoch 112 | T: 0.05 | Train RMSE: 0.02744 | Valid RMSE: 0.02859\n",
      "Epoch 113 | T: 0.05 | Train RMSE: 0.02744 | Valid RMSE: 0.02859\n"
     ]
    }
   ],
   "source": [
    "train_rmse = []\n",
    "valid_rmse = []\n",
    "min_rmse = 10e8\n",
    "\n",
    "for i in range(num_epoch):\n",
    "    start = time.time()\n",
    "\n",
    "    # model.train() # if you use dropout or batchnorm. \n",
    "    train_rmse.append(train_epoch(train_loader, model, optimizer, loss_fun))\n",
    "\n",
    "    # model.eval()\n",
    "    val_rmse, val_preds, val_trues = eval_epoch(valid_loader, model, loss_fun)\n",
    "    valid_rmse.append(val_rmse)\n",
    "\n",
    "    # save the best model\n",
    "    if valid_rmse[-1] < min_rmse:\n",
    "        min_rmse = valid_rmse[-1] \n",
    "        best_model = model\n",
    "        # torch.save([best_model, i, get_lr(optimizer)], name + \".pth\")\n",
    "\n",
    "    end = time.time()\n",
    "    \n",
    "    # Early Stopping\n",
    "    if (len(train_rmse) > 100 and np.mean(valid_rmse[-5:]) >= np.mean(valid_rmse[-10:-5])):\n",
    "            break       \n",
    "\n",
    "    # Learning Rate Decay        \n",
    "    scheduler.step()\n",
    "    \n",
    "    print(\"Epoch {} | T: {:0.2f} | Train RMSE: {:0.5f} | Valid RMSE: {:0.5f}\".format(i + 1, (end-start) / 60, train_rmse[-1], valid_rmse[-1]))"
   ]
  },
  {
   "cell_type": "markdown",
   "id": "540da579-31a5-462c-826b-e8e1c1a2ddd9",
   "metadata": {
    "id": "540da579-31a5-462c-826b-e8e1c1a2ddd9"
   },
   "source": [
    "# Evaluation and Submission"
   ]
  },
  {
   "cell_type": "code",
   "execution_count": null,
   "id": "66654867-c45e-4ad2-bdb4-ce1d546ea2d2",
   "metadata": {
    "id": "66654867-c45e-4ad2-bdb4-ce1d546ea2d2",
    "tags": []
   },
   "outputs": [],
   "source": [
    "test_path = \"./val_in/val_in/\"\n",
    "test_pkl_list = glob(os.path.join(test_path, '*'))\n",
    "test_pkl_list.sort()\n",
    "\n",
    "test_preds = []\n",
    "for idx in range(len(test_pkl_list)):\n",
    "    with open(test_pkl_list[idx], 'rb') as f:\n",
    "        test_sample = pickle.load(f)\n",
    "        pred_id = np.where(test_sample[\"track_id\"] == test_sample['agent_id'])[0][0]\n",
    "        # input: p_in & v_in; output: p_out\n",
    "        p_in_raw = scene['p_in'][pred_id]\n",
    "        p_out_raw = scene['p_out'][pred_id]\n",
    "        v_in_raw = scene['v_in'][pred_id]\n",
    "        lane_scene = scene['lane']\n",
    "        \n",
    "        # Normalization\n",
    "        min_vecs = np.min(lane_scene, axis = 0)\n",
    "        max_vecs = np.max(lane_scene, axis = 0)\n",
    "        \n",
    "        # Normalize by vectors\n",
    "        p_in_normalized = (p_in_raw - min_vecs)/(max_vecs - min_vecs)\n",
    "        v_in_norm = np.linalg.norm(v_in_raw, axis=1, keepdims=True)\n",
    "        v_in_norm = np.where(v_in_norm == 0.0, 1.0, v_in_norm)\n",
    "        v_in_normalized = v_in_raw / v_in_norm\n",
    "        # v_out_normalized = v_out_raw / np.linalg.norm(v_out_raw, axis=1, keepdims=True)\n",
    "        inp = np.concatenate((p_in_normalized,v_in_normalized),axis=1)\n",
    "        \n",
    "        inp = torch.from_numpy(inp).float().to(device).unsqueeze(0)\n",
    "\n",
    "        preds = best_model(inp).cpu().data.numpy()\n",
    "        \n",
    "        # De-Normalization ! \n",
    "        preds = preds * (max_vecs[:2] - min_vecs[:2]) +  min_vecs[:2]\n",
    "        test_preds.append(preds)"
   ]
  },
  {
   "cell_type": "markdown",
   "id": "f945f2f3-2b73-471f-91e5-87c63eb06a77",
   "metadata": {
    "id": "f945f2f3-2b73-471f-91e5-87c63eb06a77"
   },
   "source": [
    "# Generate Submission File"
   ]
  },
  {
   "cell_type": "code",
   "execution_count": null,
   "id": "af9c27f8-a65b-48ce-861b-262c3f0422e6",
   "metadata": {
    "id": "af9c27f8-a65b-48ce-861b-262c3f0422e6"
   },
   "outputs": [],
   "source": [
    "# # Submission Files\n",
    "sample_sub = pd.read_csv('sample_submission.csv')"
   ]
  },
  {
   "cell_type": "code",
   "execution_count": null,
   "id": "f01524a4-5473-4c1f-9991-46fd62162e20",
   "metadata": {
    "id": "f01524a4-5473-4c1f-9991-46fd62162e20"
   },
   "outputs": [],
   "source": [
    "# Convert to int\n",
    "predictions = np.concatenate(test_preds).reshape(len(test_preds), -1).astype(int)\n",
    "sub_df = pd.DataFrame(np.c_[sample_sub[\"ID\"], predictions], columns=[np.r_[[\"ID\"], [\"v\" + str(i) for i in range(1, 61)]]])\n",
    "sub_df.to_csv('test_submission.csv', index=None)"
   ]
  },
  {
   "cell_type": "code",
   "execution_count": null,
   "id": "RGiqLaD1PEDW",
   "metadata": {
    "id": "RGiqLaD1PEDW"
   },
   "outputs": [],
   "source": []
  }
 ],
 "metadata": {
  "accelerator": "GPU",
  "colab": {
   "provenance": []
  },
  "gpuClass": "standard",
  "kernelspec": {
   "display_name": "Python 3 (ipykernel)",
   "language": "python",
   "name": "python3"
  },
  "language_info": {
   "codemirror_mode": {
    "name": "ipython",
    "version": 3
   },
   "file_extension": ".py",
   "mimetype": "text/x-python",
   "name": "python",
   "nbconvert_exporter": "python",
   "pygments_lexer": "ipython3",
   "version": "3.10.6"
  }
 },
 "nbformat": 4,
 "nbformat_minor": 5
}
