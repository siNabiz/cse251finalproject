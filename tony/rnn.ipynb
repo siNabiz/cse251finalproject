{
 "cells": [
  {
   "cell_type": "code",
   "execution_count": 1,
   "id": "ea9f615f-1564-401f-9a74-8ac98f9bbeab",
   "metadata": {
    "id": "ea9f615f-1564-401f-9a74-8ac98f9bbeab",
    "jupyter": {
     "outputs_hidden": true
    },
    "tags": []
   },
   "outputs": [],
   "source": [
    "import os\n",
    "# os.environ[\"CUDA_DEVICE_ORDER\"] = \"PCI_BUS_ID\"\n",
    "# os.environ[\"CUDA_VISIBLE_DEVICES\"] = \"1\"\n",
    "\n",
    "import pickle\n",
    "from glob import glob\n",
    "import numpy as np\n",
    "import torch\n",
    "import torch.nn as nn\n",
    "import pandas as pd\n",
    "import time\n",
    "from einops import rearrange,reduce,repeat\n",
    "from tqdm import trange\n",
    "\n",
    "device = torch.device(\"cuda\" if torch.cuda.is_available() else \"cpu\")"
   ]
  },
  {
   "cell_type": "code",
   "execution_count": 2,
   "id": "OmXuKzlHSJhe",
   "metadata": {
    "colab": {
     "base_uri": "https://localhost:8080/"
    },
    "executionInfo": {
     "elapsed": 4,
     "status": "ok",
     "timestamp": 1682873382169,
     "user": {
      "displayName": "Tapan Sahni",
      "userId": "00703842257004975160"
     },
     "user_tz": 420
    },
    "id": "OmXuKzlHSJhe",
    "outputId": "5461c0b0-aa0e-40ae-b5b9-c8b24f21bc42"
   },
   "outputs": [
    {
     "name": "stdout",
     "output_type": "stream",
     "text": [
      "cuda\n"
     ]
    }
   ],
   "source": [
    "print(device)"
   ]
  },
  {
   "attachments": {},
   "cell_type": "markdown",
   "id": "f44b0f51-0779-49dc-bcab-5c284039d6fd",
   "metadata": {
    "id": "f44b0f51-0779-49dc-bcab-5c284039d6fd"
   },
   "source": [
    "# MLP "
   ]
  },
  {
   "cell_type": "code",
   "execution_count": 3,
   "id": "68fac99f-9f5e-4fb5-ba6c-e22cc6f8f8be",
   "metadata": {
    "id": "68fac99f-9f5e-4fb5-ba6c-e22cc6f8f8be"
   },
   "outputs": [],
   "source": [
    "class MLPNet(nn.Module):\n",
    "    def __init__(self, \n",
    "                 in_dim, # input dimension\n",
    "                 out_dim, # output dimension\n",
    "                 hidden_dim, # hidden dimension\n",
    "                 num_layers # number of layers\n",
    "                ):\n",
    "        \n",
    "        super(MLPNet, self).__init__()\n",
    "        \n",
    "        self.model = [nn.Linear(in_dim, 1024), nn.ReLU()]\n",
    "        self.model += [nn.Dropout(0.5)]\n",
    "        self.model += [nn.Linear(1024, 256), nn.ReLU()]\n",
    "        self.model += [nn.Linear(256, 128), nn.ReLU()]\n",
    "        #for i in range(num_layers-2):\n",
    "        #    self.model += [nn.Linear(hidden_dim, hidden_dim), nn.ReLU()]\n",
    "        \n",
    "        \n",
    "        self.model += [nn.Linear(hidden_dim, out_dim)]\n",
    "        \n",
    "        self.model = nn.Sequential(*self.model)\n",
    "        \n",
    "    def forward(self, inp):\n",
    "        \n",
    "        # Flatten the last two dimensions\n",
    "        inp = inp.reshape(inp.shape[0], -1)\n",
    "        \n",
    "        out = self.model(inp)\n",
    "        \n",
    "        #bz x outputlength x 2\n",
    "        return out.reshape(inp.shape[0], -1, 2)"
   ]
  },
  {
   "cell_type": "code",
   "execution_count": 4,
   "id": "5cc0cea7",
   "metadata": {},
   "outputs": [],
   "source": [
    "class MyLSTM(nn.Module):\n",
    "    def __init__(self, input_size, output_size, hidden_dim, n_layers):\n",
    "        super(MyLSTM, self).__init__()\n",
    "\n",
    "        # Defining some parameters\n",
    "        self.hidden_dim = hidden_dim\n",
    "        self.n_layers = n_layers\n",
    "\n",
    "        #Defining the layers\n",
    "        # RNN Layer\n",
    "        self.lstm = nn.LSTM(input_size, hidden_dim, n_layers, batch_first=True)   \n",
    "        # Fully connected layer\n",
    "        self.fc = nn.Linear(hidden_dim, output_size)\n",
    "    \n",
    "    def forward(self, x):\n",
    "        \n",
    "        batch_size = x.size(0)\n",
    "\n",
    "        #Initializing hidden state for first input using method defined below\n",
    "        h_t, c_t = self.init_hidden(batch_size)\n",
    "\n",
    "        # Passing in the input and hidden state into the model and obtaining outputs\n",
    "        out, (h_t, c_t) = self.lstm(x, (h_t, c_t))\n",
    "        \n",
    "        # Reshaping the outputs such that it can be fit into the fully connected layer\n",
    "        #out = out.contiguous().view(-1, self.hidden_dim)\n",
    "        out = self.fc(out)\n",
    "        \n",
    "        return out, (h_t, c_t)\n",
    "    \n",
    "    def init_hidden(self, batch_size):\n",
    "        # This method generates the first hidden state of zeros which we'll use in the forward pass\n",
    "        h_0 = torch.zeros(self.n_layers, batch_size, self.hidden_dim).to(device)\n",
    "        c_0 =  torch.zeros(self.n_layers, batch_size, self.hidden_dim).to(device)       \n",
    "         # We'll send the tensor holding the hidden state to the device we specified earlier as well\n",
    "        return h_0, c_0\n",
    "    \n",
    "\n"
   ]
  },
  {
   "cell_type": "code",
   "execution_count": 5,
   "id": "43901b7a-983c-49ca-b02a-e22d812f3cab",
   "metadata": {
    "id": "43901b7a-983c-49ca-b02a-e22d812f3cab"
   },
   "outputs": [],
   "source": [
    "# Autogressive vs. direct mapping\n",
    "# Batch Norm? "
   ]
  },
  {
   "attachments": {},
   "cell_type": "markdown",
   "id": "1c020112-bb96-45d0-abf4-332956e8e544",
   "metadata": {
    "id": "1c020112-bb96-45d0-abf4-332956e8e544"
   },
   "source": [
    "# Dataset"
   ]
  },
  {
   "cell_type": "code",
   "execution_count": 6,
   "id": "cc5190e9-67a3-4e83-af0c-2f79f9cab867",
   "metadata": {
    "id": "cc5190e9-67a3-4e83-af0c-2f79f9cab867"
   },
   "outputs": [],
   "source": [
    "class ArgoverseDataset(torch.utils.data.Dataset):\n",
    "    \"\"\"Dataset class for Argoverse\"\"\"\n",
    "    \n",
    "    def __init__(self, \n",
    "                 data_path,\n",
    "                 sample_indices):\n",
    "        super(ArgoverseDataset, self).__init__()\n",
    "        \n",
    "        self.data_path = data_path\n",
    "        self.sample_indices = sample_indices\n",
    "        self.pkl_list = glob(os.path.join(self.data_path, '*'))\n",
    "        self.pkl_list.sort()\n",
    "        \n",
    "    def __len__(self):\n",
    "        return len(self.sample_indices)\n",
    "\n",
    "    def __getitem__(self, idx):\n",
    "        \n",
    "        # Load one scene\n",
    "        pkl_path = self.pkl_list[self.sample_indices[idx]]\n",
    "        with open(pkl_path, 'rb') as f:\n",
    "            scene = pickle.load(f)\n",
    "            \n",
    "        # the index of agent to be predicted \n",
    "        pred_id = np.where(scene[\"track_id\"] == scene['agent_id'])[0][0]\n",
    "        \n",
    "        # input: p_in & v_in; output: p_out\n",
    "        p_in_raw = scene['p_in']\n",
    "        p_out_raw = scene['p_out'][pred_id]\n",
    "        v_in_raw = scene['v_in']\n",
    "        v_out_raw = scene['v_out'][pred_id]\n",
    "        lane_scene = scene['lane']\n",
    "        \n",
    "        # Normalization\n",
    "        min_vecs = np.min(lane_scene, axis = 0)\n",
    "        max_vecs = np.max(lane_scene, axis = 0)\n",
    "        \n",
    "        # Normalize by vectors\n",
    "        p_in_normalized = (p_in_raw - min_vecs)/(max_vecs - min_vecs)\n",
    "        p_out_normalized = (p_out_raw - min_vecs)/(max_vecs - min_vecs)\n",
    "        v_in_norm = np.linalg.norm(v_in_raw, axis=1, keepdims=True)\n",
    "        v_in_norm = np.where(v_in_norm == 0.0, 1.0, v_in_norm)\n",
    "        v_in_normalized = v_in_raw / v_in_norm\n",
    "        # v_out_normalized = v_out_raw / np.linalg.norm(v_out_raw, axis=1, keepdims=True)\n",
    "        inp = np.concatenate((p_in_normalized,v_in_normalized),axis=1)\n",
    "        \n",
    "        # Convert to float torch tensor\n",
    "        return torch.from_numpy(inp).float(), torch.from_numpy(p_out_normalized).float()"
   ]
  },
  {
   "cell_type": "code",
   "execution_count": 7,
   "id": "14e48233",
   "metadata": {},
   "outputs": [],
   "source": [
    "class RNNdataset(torch.utils.data.Dataset):\n",
    "    def __init__(self, \n",
    "                 data_path,\n",
    "                 sample_indices):\n",
    "        self.data_path = data_path\n",
    "        self.sample_indices = sample_indices\n",
    "        self.pkl_list = glob(os.path.join(self.data_path, '*'))\n",
    "        self.pkl_list.sort()\n",
    "        \n",
    "    def __len__(self):\n",
    "        return len(self.sample_indices)\n",
    "    \n",
    "    def __getitem__(self,idx):\n",
    "        # Load one scene\n",
    "        pkl_path = self.pkl_list[self.sample_indices[idx]]\n",
    "        with open(pkl_path, 'rb') as f:\n",
    "            scene = pickle.load(f)\n",
    "        # the index of agent to be predicted \n",
    "        pred_id = np.where(scene[\"track_id\"] == scene['agent_id'])[0][0]\n",
    "        mask = np.where(scene['car_mask'] == 1)[0]\n",
    "    \n",
    "        \n",
    "        # input: p_in & v_in; output: p_out\n",
    "        p_in_raw = scene['p_in']\n",
    "        p_out_raw = scene['p_out'][pred_id]\n",
    "        v_in_raw = scene['v_in']\n",
    "        \n",
    "        lane_scene = scene['lane']\n",
    "        \n",
    "        # Normalization\n",
    "        min_vecs = np.min(lane_scene, axis = 0)\n",
    "        max_vecs = np.max(lane_scene, axis = 0)\n",
    "        \n",
    "        # Normalize by vectors\n",
    "        p_in_norm = (p_in_raw - min_vecs)/(max_vecs - min_vecs)\n",
    "        \n",
    "        v_in_norm = np.linalg.norm(v_in_raw, axis=1, keepdims=True)\n",
    "        v_in_norm = np.where(v_in_norm == 0.0, 1.0, v_in_norm)\n",
    "        v_in_norm = v_in_raw / v_in_norm\n",
    "        # v_out_normalized = v_out_raw / np.linalg.norm(v_out_raw, axis=1, keepdims=True)\n",
    "        p_track = p_in_norm[mask].reshape(-1,19*2)\n",
    "        v_track = v_in_norm[mask].reshape(-1,19*2)\n",
    "        \n",
    "        p_agent = p_in_norm[pred_id].reshape(1,-1)\n",
    "        v_agent = v_in_norm[pred_id].reshape(1,-1)\n",
    "        new_mask = []\n",
    "        p_result = []\n",
    "        v_result = []\n",
    "        if (len(mask) > 10):\n",
    "            \n",
    "            dist = ((p_track - p_agent)**2).sum(axis=-1)\n",
    "            #print('dist is ',dist.shape)\n",
    "            new_mask = np.argpartition(dist,10)[:10]\n",
    "            \n",
    "            p_result = p_track[new_mask,:]\n",
    "            v_result = v_track[new_mask,:]\n",
    "        else:\n",
    "            p_result = np.zeros((10,38))\n",
    "            v_result = np.zeros((10,38))\n",
    "            k = p_track.shape[0]\n",
    "            #print('slice',k)\n",
    "            p_result[:k] = p_track\n",
    "            v_result[:k] = v_track\n",
    "        \n",
    "        #print('shape is',p_agent.shape,v_agent.shape,p_result.shape,v_result.shape)\n",
    "        inp = np.vstack((p_agent,v_agent,p_result,v_result))\n",
    "        #print('inp shape is',inp.shape)\n",
    "\n",
    "\n",
    "        p_out_normalized = (p_out_raw - min_vecs)/(max_vecs - min_vecs)\n",
    "        p_out_norm = rearrange(p_out_normalized, 'a b -> (a b)')\n",
    "        # Convert to float torch tensor\n",
    "        return torch.from_numpy(inp).float(), torch.from_numpy(p_out_norm).float()\n",
    "\n"
   ]
  },
  {
   "cell_type": "code",
   "execution_count": 8,
   "id": "16e5f5c2-86ff-4a6b-a585-117d0d08b8b2",
   "metadata": {
    "id": "16e5f5c2-86ff-4a6b-a585-117d0d08b8b2"
   },
   "outputs": [],
   "source": [
    "# Try different ways of normalization\n",
    "# Leverage other features. "
   ]
  },
  {
   "attachments": {},
   "cell_type": "markdown",
   "id": "c13ae604-526c-4fff-a672-f09cd103f7c2",
   "metadata": {
    "id": "c13ae604-526c-4fff-a672-f09cd103f7c2"
   },
   "source": [
    "# Hyperparameter"
   ]
  },
  {
   "cell_type": "code",
   "execution_count": 9,
   "id": "913d832f-4050-4c23-9d74-114595112f13",
   "metadata": {
    "id": "913d832f-4050-4c23-9d74-114595112f13"
   },
   "outputs": [],
   "source": [
    "# Grid/Random Search"
   ]
  },
  {
   "cell_type": "code",
   "execution_count": 10,
   "id": "29e5c051-43a7-4bfd-9ab0-7105693661d3",
   "metadata": {
    "id": "29e5c051-43a7-4bfd-9ab0-7105693661d3"
   },
   "outputs": [],
   "source": [
    "batch_size = 1024\n",
    "in_dim = 19*2\n",
    "out_dim = 30*2\n",
    "hidden_dim = 128\n",
    "num_layers = 3\n",
    "learning_rate = 0.01\n",
    "decay_rate = 0.95\n",
    "num_epoch = 1000"
   ]
  },
  {
   "attachments": {},
   "cell_type": "markdown",
   "id": "fb7aa146-1618-4fc2-aec1-2724a09c8bd0",
   "metadata": {
    "id": "fb7aa146-1618-4fc2-aec1-2724a09c8bd0"
   },
   "source": [
    "# Data Loader"
   ]
  },
  {
   "cell_type": "code",
   "execution_count": 11,
   "id": "d589c9c9-c46b-4b70-a515-90dd68669431",
   "metadata": {
    "colab": {
     "base_uri": "https://localhost:8080/"
    },
    "executionInfo": {
     "elapsed": 194,
     "status": "ok",
     "timestamp": 1682203235553,
     "user": {
      "displayName": "Dev Gulati",
      "userId": "17053533454866203676"
     },
     "user_tz": 420
    },
    "id": "d589c9c9-c46b-4b70-a515-90dd68669431",
    "outputId": "34773f5c-9441-4dd7-903b-970cb0e59e99"
   },
   "outputs": [],
   "source": [
    "train_path = \"./train/train\"\n",
    "\n",
    "# total number of scenes\n",
    "indices = np.arange(0, 205942)\n",
    "\n",
    "# train-valid split\n",
    "np.random.shuffle(indices)\n",
    "train_indices = indices[:180000]\n",
    "valid_indices = indices[180000:]\n",
    "\n",
    "# define datasets\n",
    "train_set = ArgoverseDataset(train_path, train_indices)\n",
    "valid_set = ArgoverseDataset(train_path, valid_indices)\n",
    "\n",
    "train_set = RNNdataset(train_path, train_indices)\n",
    "valid_set = RNNdataset(train_path, valid_indices)\n",
    "\n",
    "# create dataloaders\n",
    "train_loader = torch.utils.data.DataLoader(train_set, batch_size=batch_size, shuffle=True, num_workers=8)\n",
    "valid_loader = torch.utils.data.DataLoader(valid_set, batch_size=batch_size, shuffle=False, num_workers=8)"
   ]
  },
  {
   "attachments": {},
   "cell_type": "markdown",
   "id": "6d9c45bc-bdf3-4b5a-82b0-c0752c16cd2b",
   "metadata": {
    "id": "6d9c45bc-bdf3-4b5a-82b0-c0752c16cd2b"
   },
   "source": [
    "# Model, Loss Function and Optimizer"
   ]
  },
  {
   "cell_type": "code",
   "execution_count": 12,
   "id": "8c3cc020-8055-4005-ba6b-585a2e7a5fee",
   "metadata": {
    "id": "8c3cc020-8055-4005-ba6b-585a2e7a5fee"
   },
   "outputs": [],
   "source": [
    "# RNN, LSTM, 1dCNN, Transformer\n",
    "# model = MLPNet(in_dim = in_dim, \n",
    "#                out_dim = out_dim,\n",
    "#                hidden_dim = hidden_dim, \n",
    "#                num_layers = num_layers).to(device) # move model to gpu \n",
    "\n",
    "# Adaptive Moment Estimation computes adaptive learning rates for each parameter. \n",
    "# Compute the decaying averages of past and past squared gradients. \n",
    "# Instantiate the model with hyperparameters\n",
    "model = MyLSTM(input_size=in_dim, output_size=out_dim, hidden_dim=60, n_layers=2).to(device)   #maximum number of hidden size is 120\n",
    "\n",
    "\n",
    "\n",
    "optimizer = torch.optim.Adam(model.parameters(), lr=learning_rate)\n",
    "scheduler = torch.optim.lr_scheduler.StepLR(optimizer, step_size=1, gamma=decay_rate)  # stepwise learning rate decay\n",
    "loss_fun = nn.MSELoss()"
   ]
  },
  {
   "attachments": {},
   "cell_type": "markdown",
   "id": "1c3392ee-eb57-4d8d-b6ea-49e6f38e3770",
   "metadata": {
    "id": "1c3392ee-eb57-4d8d-b6ea-49e6f38e3770"
   },
   "source": [
    "# Training"
   ]
  },
  {
   "cell_type": "code",
   "execution_count": 13,
   "id": "fa3e350d-9fca-4356-84da-7412d86667c9",
   "metadata": {
    "id": "fa3e350d-9fca-4356-84da-7412d86667c9"
   },
   "outputs": [],
   "source": [
    "def train_epoch(train_loader, model, optimizer, loss_function):\n",
    "    model.train()\n",
    "    train_mse = []\n",
    "    for inp, tgt in train_loader:\n",
    "        inp = inp.to(device)\n",
    "        tgt = tgt.to(device)\n",
    "       \n",
    "        \n",
    "        pred,_ = model(inp)\n",
    "        #print(pred.shape,tgt.shape)\n",
    "        pred = pred[:,-1, :].squeeze(1)\n",
    "        loss = loss_function(pred, tgt)\n",
    "        train_mse.append(loss.item()) \n",
    "        optimizer.zero_grad()\n",
    "        loss.backward()\n",
    "        optimizer.step()\n",
    "    train_mse = round(np.sqrt(np.mean(train_mse)),5)\n",
    "    return train_mse\n",
    "\n",
    "def eval_epoch(valid_loader, model, loss_function):\n",
    "    model.eval()\n",
    "    valid_mse = []\n",
    "    preds = []\n",
    "    trues = []\n",
    "    with torch.no_grad():\n",
    "        for inp, tgt in valid_loader:\n",
    "            inp = inp.to(device)\n",
    "            tgt = tgt.to(device)\n",
    "            \n",
    "            loss = 0\n",
    "            pred,_ = model(inp)\n",
    "            #print(tgt.shape,pred.shape)\n",
    "            pred = pred[:,-1, :].squeeze(1)\n",
    "            loss = loss_function(pred, tgt)\n",
    "            preds.append(pred.cpu().data.numpy())\n",
    "            trues.append(tgt.cpu().data.numpy())\n",
    "            valid_mse.append(loss.item())\n",
    "            \n",
    "        preds = np.concatenate(preds, axis = 0)  \n",
    "        trues = np.concatenate(trues, axis = 0)  \n",
    "        valid_mse = round(np.sqrt(np.mean(valid_mse)), 5)\n",
    "    return valid_mse, preds, trues\n"
   ]
  },
  {
   "cell_type": "code",
   "execution_count": 14,
   "id": "f529da48-7092-4096-b95d-a3782e0a7590",
   "metadata": {
    "id": "f529da48-7092-4096-b95d-a3782e0a7590"
   },
   "outputs": [],
   "source": [
    "# Learning Rate Decay\n",
    "# Dropout\n",
    "# L1/L2 Regulization"
   ]
  },
  {
   "cell_type": "code",
   "execution_count": 15,
   "id": "f5c15057-a83e-44b0-af97-cf28f3c98044",
   "metadata": {
    "colab": {
     "base_uri": "https://localhost:8080/",
     "height": 554
    },
    "executionInfo": {
     "elapsed": 610,
     "status": "error",
     "timestamp": 1682203248929,
     "user": {
      "displayName": "Dev Gulati",
      "userId": "17053533454866203676"
     },
     "user_tz": 420
    },
    "id": "f5c15057-a83e-44b0-af97-cf28f3c98044",
    "outputId": "c23108e3-db6e-4d40-8242-42cf968e5c13"
   },
   "outputs": [
    {
     "name": "stdout",
     "output_type": "stream",
     "text": [
      "cuda\n"
     ]
    },
    {
     "name": "stderr",
     "output_type": "stream",
     "text": [
      "  0%|          | 1/1000 [00:33<9:25:22, 33.96s/it]"
     ]
    },
    {
     "name": "stdout",
     "output_type": "stream",
     "text": [
      "Get best model\n",
      "Epoch 1 | T: 0.57 | Train RMSE: 0.20877 | Valid RMSE: 0.09874\n"
     ]
    },
    {
     "name": "stderr",
     "output_type": "stream",
     "text": [
      "  0%|          | 2/1000 [01:08<9:31:41, 34.37s/it]"
     ]
    },
    {
     "name": "stdout",
     "output_type": "stream",
     "text": [
      "Get best model\n",
      "Epoch 2 | T: 0.58 | Train RMSE: 0.07061 | Valid RMSE: 0.05747\n"
     ]
    },
    {
     "name": "stderr",
     "output_type": "stream",
     "text": [
      "  0%|          | 3/1000 [01:40<9:13:48, 33.33s/it]"
     ]
    },
    {
     "name": "stdout",
     "output_type": "stream",
     "text": [
      "Get best model\n",
      "Epoch 3 | T: 0.53 | Train RMSE: 0.05050 | Valid RMSE: 0.04723\n"
     ]
    },
    {
     "name": "stderr",
     "output_type": "stream",
     "text": [
      "  0%|          | 4/1000 [02:10<8:47:28, 31.78s/it]"
     ]
    },
    {
     "name": "stdout",
     "output_type": "stream",
     "text": [
      "Get best model\n",
      "Epoch 4 | T: 0.49 | Train RMSE: 0.04114 | Valid RMSE: 0.03761\n"
     ]
    },
    {
     "name": "stderr",
     "output_type": "stream",
     "text": [
      "  0%|          | 5/1000 [02:39<8:30:52, 30.81s/it]"
     ]
    },
    {
     "name": "stdout",
     "output_type": "stream",
     "text": [
      "Get best model\n",
      "Epoch 5 | T: 0.48 | Train RMSE: 0.03692 | Valid RMSE: 0.03458\n"
     ]
    },
    {
     "name": "stderr",
     "output_type": "stream",
     "text": [
      "  1%|          | 6/1000 [03:07<8:17:37, 30.04s/it]"
     ]
    },
    {
     "name": "stdout",
     "output_type": "stream",
     "text": [
      "Epoch 6 | T: 0.48 | Train RMSE: 0.03613 | Valid RMSE: 0.03568\n"
     ]
    },
    {
     "name": "stderr",
     "output_type": "stream",
     "text": [
      "  1%|          | 7/1000 [03:36<8:08:54, 29.54s/it]"
     ]
    },
    {
     "name": "stdout",
     "output_type": "stream",
     "text": [
      "Epoch 7 | T: 0.48 | Train RMSE: 0.03442 | Valid RMSE: 0.03556\n"
     ]
    },
    {
     "name": "stderr",
     "output_type": "stream",
     "text": [
      "  1%|          | 8/1000 [04:06<8:09:37, 29.61s/it]"
     ]
    },
    {
     "name": "stdout",
     "output_type": "stream",
     "text": [
      "Get best model\n",
      "Epoch 8 | T: 0.50 | Train RMSE: 0.03414 | Valid RMSE: 0.03267\n"
     ]
    },
    {
     "name": "stderr",
     "output_type": "stream",
     "text": [
      "  1%|          | 9/1000 [04:36<8:11:56, 29.78s/it]"
     ]
    },
    {
     "name": "stdout",
     "output_type": "stream",
     "text": [
      "Get best model\n",
      "Epoch 9 | T: 0.50 | Train RMSE: 0.03320 | Valid RMSE: 0.03211\n"
     ]
    },
    {
     "name": "stderr",
     "output_type": "stream",
     "text": [
      "  1%|          | 10/1000 [05:04<8:04:54, 29.39s/it]"
     ]
    },
    {
     "name": "stdout",
     "output_type": "stream",
     "text": [
      "Get best model\n",
      "Epoch 10 | T: 0.47 | Train RMSE: 0.03290 | Valid RMSE: 0.03172\n"
     ]
    },
    {
     "name": "stderr",
     "output_type": "stream",
     "text": [
      "  1%|          | 11/1000 [05:33<8:03:34, 29.34s/it]"
     ]
    },
    {
     "name": "stdout",
     "output_type": "stream",
     "text": [
      "Epoch 11 | T: 0.49 | Train RMSE: 0.03257 | Valid RMSE: 0.03210\n"
     ]
    },
    {
     "name": "stderr",
     "output_type": "stream",
     "text": [
      "  1%|          | 12/1000 [06:04<8:10:37, 29.79s/it]"
     ]
    },
    {
     "name": "stdout",
     "output_type": "stream",
     "text": [
      "Epoch 12 | T: 0.51 | Train RMSE: 0.03214 | Valid RMSE: 0.03204\n"
     ]
    },
    {
     "name": "stderr",
     "output_type": "stream",
     "text": [
      "  1%|▏         | 13/1000 [06:33<8:05:30, 29.51s/it]"
     ]
    },
    {
     "name": "stdout",
     "output_type": "stream",
     "text": [
      "Get best model\n",
      "Epoch 13 | T: 0.48 | Train RMSE: 0.03159 | Valid RMSE: 0.03159\n"
     ]
    },
    {
     "name": "stderr",
     "output_type": "stream",
     "text": [
      "  1%|▏         | 14/1000 [07:01<7:54:49, 28.89s/it]"
     ]
    },
    {
     "name": "stdout",
     "output_type": "stream",
     "text": [
      "Get best model\n",
      "Epoch 14 | T: 0.46 | Train RMSE: 0.03142 | Valid RMSE: 0.03110\n"
     ]
    },
    {
     "name": "stderr",
     "output_type": "stream",
     "text": [
      "  2%|▏         | 15/1000 [07:31<8:01:30, 29.33s/it]"
     ]
    },
    {
     "name": "stdout",
     "output_type": "stream",
     "text": [
      "Epoch 15 | T: 0.51 | Train RMSE: 0.03092 | Valid RMSE: 0.03132\n"
     ]
    },
    {
     "name": "stderr",
     "output_type": "stream",
     "text": [
      "  2%|▏         | 16/1000 [08:00<8:01:27, 29.36s/it]"
     ]
    },
    {
     "name": "stdout",
     "output_type": "stream",
     "text": [
      "Epoch 16 | T: 0.49 | Train RMSE: 0.03137 | Valid RMSE: 0.03244\n"
     ]
    },
    {
     "name": "stderr",
     "output_type": "stream",
     "text": [
      "  2%|▏         | 17/1000 [08:30<8:04:35, 29.58s/it]"
     ]
    },
    {
     "name": "stdout",
     "output_type": "stream",
     "text": [
      "Get best model\n",
      "Epoch 17 | T: 0.50 | Train RMSE: 0.03084 | Valid RMSE: 0.03067\n"
     ]
    },
    {
     "name": "stderr",
     "output_type": "stream",
     "text": [
      "  2%|▏         | 18/1000 [08:59<8:01:34, 29.42s/it]"
     ]
    },
    {
     "name": "stdout",
     "output_type": "stream",
     "text": [
      "Epoch 18 | T: 0.48 | Train RMSE: 0.03071 | Valid RMSE: 0.03234\n"
     ]
    },
    {
     "name": "stderr",
     "output_type": "stream",
     "text": [
      "  2%|▏         | 19/1000 [09:29<8:01:17, 29.44s/it]"
     ]
    },
    {
     "name": "stdout",
     "output_type": "stream",
     "text": [
      "Epoch 19 | T: 0.49 | Train RMSE: 0.03074 | Valid RMSE: 0.03104\n"
     ]
    },
    {
     "name": "stderr",
     "output_type": "stream",
     "text": [
      "  2%|▏         | 20/1000 [10:00<8:06:42, 29.80s/it]"
     ]
    },
    {
     "name": "stdout",
     "output_type": "stream",
     "text": [
      "Epoch 20 | T: 0.51 | Train RMSE: 0.03040 | Valid RMSE: 0.03174\n"
     ]
    },
    {
     "name": "stderr",
     "output_type": "stream",
     "text": [
      "  2%|▏         | 21/1000 [10:30<8:07:13, 29.86s/it]"
     ]
    },
    {
     "name": "stdout",
     "output_type": "stream",
     "text": [
      "Epoch 21 | T: 0.50 | Train RMSE: 0.03045 | Valid RMSE: 0.03106\n"
     ]
    },
    {
     "name": "stderr",
     "output_type": "stream",
     "text": [
      "  2%|▏         | 22/1000 [10:59<8:03:59, 29.69s/it]"
     ]
    },
    {
     "name": "stdout",
     "output_type": "stream",
     "text": [
      "Get best model\n",
      "Epoch 22 | T: 0.49 | Train RMSE: 0.03015 | Valid RMSE: 0.03003\n"
     ]
    },
    {
     "name": "stderr",
     "output_type": "stream",
     "text": [
      "  2%|▏         | 23/1000 [11:28<8:00:05, 29.48s/it]"
     ]
    },
    {
     "name": "stdout",
     "output_type": "stream",
     "text": [
      "Epoch 23 | T: 0.48 | Train RMSE: 0.02983 | Valid RMSE: 0.03021\n"
     ]
    },
    {
     "name": "stderr",
     "output_type": "stream",
     "text": [
      "  2%|▏         | 24/1000 [11:56<7:55:11, 29.21s/it]"
     ]
    },
    {
     "name": "stdout",
     "output_type": "stream",
     "text": [
      "Epoch 24 | T: 0.48 | Train RMSE: 0.02996 | Valid RMSE: 0.03055\n"
     ]
    },
    {
     "name": "stderr",
     "output_type": "stream",
     "text": [
      "  2%|▎         | 25/1000 [12:25<7:52:22, 29.07s/it]"
     ]
    },
    {
     "name": "stdout",
     "output_type": "stream",
     "text": [
      "Epoch 25 | T: 0.48 | Train RMSE: 0.02984 | Valid RMSE: 0.03025\n"
     ]
    },
    {
     "name": "stderr",
     "output_type": "stream",
     "text": [
      "  3%|▎         | 26/1000 [12:54<7:49:45, 28.94s/it]"
     ]
    },
    {
     "name": "stdout",
     "output_type": "stream",
     "text": [
      "Epoch 26 | T: 0.48 | Train RMSE: 0.02978 | Valid RMSE: 0.03027\n"
     ]
    },
    {
     "name": "stderr",
     "output_type": "stream",
     "text": [
      "  3%|▎         | 27/1000 [13:24<7:53:40, 29.21s/it]"
     ]
    },
    {
     "name": "stdout",
     "output_type": "stream",
     "text": [
      "Epoch 27 | T: 0.50 | Train RMSE: 0.02931 | Valid RMSE: 0.03038\n"
     ]
    },
    {
     "name": "stderr",
     "output_type": "stream",
     "text": [
      "  3%|▎         | 28/1000 [13:53<7:55:02, 29.32s/it]"
     ]
    },
    {
     "name": "stdout",
     "output_type": "stream",
     "text": [
      "Epoch 28 | T: 0.49 | Train RMSE: 0.02947 | Valid RMSE: 0.03051\n"
     ]
    },
    {
     "name": "stderr",
     "output_type": "stream",
     "text": [
      "  3%|▎         | 29/1000 [14:23<7:54:32, 29.32s/it]"
     ]
    },
    {
     "name": "stdout",
     "output_type": "stream",
     "text": [
      "Epoch 29 | T: 0.49 | Train RMSE: 0.02933 | Valid RMSE: 0.03064\n"
     ]
    },
    {
     "name": "stderr",
     "output_type": "stream",
     "text": [
      "  3%|▎         | 30/1000 [14:52<7:51:57, 29.19s/it]"
     ]
    },
    {
     "name": "stdout",
     "output_type": "stream",
     "text": [
      "Get best model\n",
      "Epoch 30 | T: 0.48 | Train RMSE: 0.02922 | Valid RMSE: 0.02937\n"
     ]
    },
    {
     "name": "stderr",
     "output_type": "stream",
     "text": [
      "  3%|▎         | 31/1000 [15:20<7:49:19, 29.06s/it]"
     ]
    },
    {
     "name": "stdout",
     "output_type": "stream",
     "text": [
      "Get best model\n",
      "Epoch 31 | T: 0.48 | Train RMSE: 0.02904 | Valid RMSE: 0.02921\n"
     ]
    },
    {
     "name": "stderr",
     "output_type": "stream",
     "text": [
      "  3%|▎         | 32/1000 [15:49<7:46:22, 28.91s/it]"
     ]
    },
    {
     "name": "stdout",
     "output_type": "stream",
     "text": [
      "Epoch 32 | T: 0.48 | Train RMSE: 0.02898 | Valid RMSE: 0.02948\n"
     ]
    },
    {
     "name": "stderr",
     "output_type": "stream",
     "text": [
      "  3%|▎         | 33/1000 [16:18<7:45:32, 28.89s/it]"
     ]
    },
    {
     "name": "stdout",
     "output_type": "stream",
     "text": [
      "Epoch 33 | T: 0.48 | Train RMSE: 0.02897 | Valid RMSE: 0.02980\n"
     ]
    },
    {
     "name": "stderr",
     "output_type": "stream",
     "text": [
      "  3%|▎         | 34/1000 [16:46<7:43:22, 28.78s/it]"
     ]
    },
    {
     "name": "stdout",
     "output_type": "stream",
     "text": [
      "Get best model\n",
      "Epoch 34 | T: 0.48 | Train RMSE: 0.02906 | Valid RMSE: 0.02914\n"
     ]
    },
    {
     "name": "stderr",
     "output_type": "stream",
     "text": [
      "  4%|▎         | 35/1000 [17:16<7:49:05, 29.17s/it]"
     ]
    },
    {
     "name": "stdout",
     "output_type": "stream",
     "text": [
      "Epoch 35 | T: 0.50 | Train RMSE: 0.02875 | Valid RMSE: 0.02932\n"
     ]
    },
    {
     "name": "stderr",
     "output_type": "stream",
     "text": [
      "  4%|▎         | 36/1000 [17:47<7:54:48, 29.55s/it]"
     ]
    },
    {
     "name": "stdout",
     "output_type": "stream",
     "text": [
      "Get best model\n",
      "Epoch 36 | T: 0.51 | Train RMSE: 0.02875 | Valid RMSE: 0.02912\n"
     ]
    },
    {
     "name": "stderr",
     "output_type": "stream",
     "text": [
      "  4%|▎         | 37/1000 [18:18<8:02:10, 30.04s/it]"
     ]
    },
    {
     "name": "stdout",
     "output_type": "stream",
     "text": [
      "Get best model\n",
      "Epoch 37 | T: 0.52 | Train RMSE: 0.02863 | Valid RMSE: 0.02899\n"
     ]
    },
    {
     "name": "stderr",
     "output_type": "stream",
     "text": [
      "  4%|▍         | 38/1000 [18:47<7:58:56, 29.87s/it]"
     ]
    },
    {
     "name": "stdout",
     "output_type": "stream",
     "text": [
      "Epoch 38 | T: 0.49 | Train RMSE: 0.02861 | Valid RMSE: 0.02915\n"
     ]
    },
    {
     "name": "stderr",
     "output_type": "stream",
     "text": [
      "  4%|▍         | 39/1000 [19:17<7:58:34, 29.88s/it]"
     ]
    },
    {
     "name": "stdout",
     "output_type": "stream",
     "text": [
      "Get best model\n",
      "Epoch 39 | T: 0.50 | Train RMSE: 0.02851 | Valid RMSE: 0.02898\n"
     ]
    },
    {
     "name": "stderr",
     "output_type": "stream",
     "text": [
      "  4%|▍         | 40/1000 [19:47<7:59:15, 29.95s/it]"
     ]
    },
    {
     "name": "stdout",
     "output_type": "stream",
     "text": [
      "Epoch 40 | T: 0.50 | Train RMSE: 0.02845 | Valid RMSE: 0.02902\n"
     ]
    },
    {
     "name": "stderr",
     "output_type": "stream",
     "text": [
      "  4%|▍         | 41/1000 [20:17<7:58:42, 29.95s/it]"
     ]
    },
    {
     "name": "stdout",
     "output_type": "stream",
     "text": [
      "Epoch 41 | T: 0.50 | Train RMSE: 0.02842 | Valid RMSE: 0.02923\n"
     ]
    },
    {
     "name": "stderr",
     "output_type": "stream",
     "text": [
      "  4%|▍         | 42/1000 [20:47<7:56:56, 29.87s/it]"
     ]
    },
    {
     "name": "stdout",
     "output_type": "stream",
     "text": [
      "Get best model\n",
      "Epoch 42 | T: 0.49 | Train RMSE: 0.02833 | Valid RMSE: 0.02868\n"
     ]
    },
    {
     "name": "stderr",
     "output_type": "stream",
     "text": [
      "  4%|▍         | 43/1000 [21:17<7:55:40, 29.82s/it]"
     ]
    },
    {
     "name": "stdout",
     "output_type": "stream",
     "text": [
      "Epoch 43 | T: 0.50 | Train RMSE: 0.02819 | Valid RMSE: 0.02874\n"
     ]
    },
    {
     "name": "stderr",
     "output_type": "stream",
     "text": [
      "  4%|▍         | 44/1000 [21:46<7:53:41, 29.73s/it]"
     ]
    },
    {
     "name": "stdout",
     "output_type": "stream",
     "text": [
      "Epoch 44 | T: 0.49 | Train RMSE: 0.02821 | Valid RMSE: 0.02907\n"
     ]
    },
    {
     "name": "stderr",
     "output_type": "stream",
     "text": [
      "  4%|▍         | 45/1000 [22:17<7:56:28, 29.94s/it]"
     ]
    },
    {
     "name": "stdout",
     "output_type": "stream",
     "text": [
      "Epoch 45 | T: 0.51 | Train RMSE: 0.02820 | Valid RMSE: 0.02875\n"
     ]
    },
    {
     "name": "stderr",
     "output_type": "stream",
     "text": [
      "  5%|▍         | 46/1000 [22:47<7:58:07, 30.07s/it]"
     ]
    },
    {
     "name": "stdout",
     "output_type": "stream",
     "text": [
      "Get best model\n",
      "Epoch 46 | T: 0.51 | Train RMSE: 0.02828 | Valid RMSE: 0.02860\n"
     ]
    },
    {
     "name": "stderr",
     "output_type": "stream",
     "text": [
      "  5%|▍         | 47/1000 [23:16<7:53:31, 29.81s/it]"
     ]
    },
    {
     "name": "stdout",
     "output_type": "stream",
     "text": [
      "Epoch 47 | T: 0.49 | Train RMSE: 0.02816 | Valid RMSE: 0.02880\n"
     ]
    },
    {
     "name": "stderr",
     "output_type": "stream",
     "text": [
      "  5%|▍         | 48/1000 [23:46<7:52:26, 29.78s/it]"
     ]
    },
    {
     "name": "stdout",
     "output_type": "stream",
     "text": [
      "Epoch 48 | T: 0.49 | Train RMSE: 0.02799 | Valid RMSE: 0.02904\n"
     ]
    },
    {
     "name": "stderr",
     "output_type": "stream",
     "text": [
      "  5%|▍         | 49/1000 [24:15<7:47:25, 29.49s/it]"
     ]
    },
    {
     "name": "stdout",
     "output_type": "stream",
     "text": [
      "Epoch 49 | T: 0.48 | Train RMSE: 0.02798 | Valid RMSE: 0.02871\n"
     ]
    },
    {
     "name": "stderr",
     "output_type": "stream",
     "text": [
      "  5%|▌         | 50/1000 [24:44<7:46:54, 29.49s/it]"
     ]
    },
    {
     "name": "stdout",
     "output_type": "stream",
     "text": [
      "Epoch 50 | T: 0.49 | Train RMSE: 0.02805 | Valid RMSE: 0.02870\n"
     ]
    },
    {
     "name": "stderr",
     "output_type": "stream",
     "text": [
      "  5%|▌         | 51/1000 [25:13<7:43:19, 29.29s/it]"
     ]
    },
    {
     "name": "stdout",
     "output_type": "stream",
     "text": [
      "Get best model\n",
      "Epoch 51 | T: 0.48 | Train RMSE: 0.02795 | Valid RMSE: 0.02855\n"
     ]
    },
    {
     "name": "stderr",
     "output_type": "stream",
     "text": [
      "  5%|▌         | 52/1000 [25:42<7:40:48, 29.17s/it]"
     ]
    },
    {
     "name": "stdout",
     "output_type": "stream",
     "text": [
      "Get best model\n",
      "Epoch 52 | T: 0.48 | Train RMSE: 0.02792 | Valid RMSE: 0.02847\n"
     ]
    },
    {
     "name": "stderr",
     "output_type": "stream",
     "text": [
      "  5%|▌         | 53/1000 [26:12<7:42:54, 29.33s/it]"
     ]
    },
    {
     "name": "stdout",
     "output_type": "stream",
     "text": [
      "Epoch 53 | T: 0.50 | Train RMSE: 0.02786 | Valid RMSE: 0.02855\n"
     ]
    },
    {
     "name": "stderr",
     "output_type": "stream",
     "text": [
      "  5%|▌         | 54/1000 [26:41<7:43:40, 29.41s/it]"
     ]
    },
    {
     "name": "stdout",
     "output_type": "stream",
     "text": [
      "Epoch 54 | T: 0.49 | Train RMSE: 0.02780 | Valid RMSE: 0.02866\n"
     ]
    },
    {
     "name": "stderr",
     "output_type": "stream",
     "text": [
      "  6%|▌         | 55/1000 [27:11<7:44:03, 29.46s/it]"
     ]
    },
    {
     "name": "stdout",
     "output_type": "stream",
     "text": [
      "Get best model\n",
      "Epoch 55 | T: 0.49 | Train RMSE: 0.02780 | Valid RMSE: 0.02846\n"
     ]
    },
    {
     "name": "stderr",
     "output_type": "stream",
     "text": [
      "  6%|▌         | 56/1000 [27:40<7:41:34, 29.34s/it]"
     ]
    },
    {
     "name": "stdout",
     "output_type": "stream",
     "text": [
      "Epoch 56 | T: 0.48 | Train RMSE: 0.02777 | Valid RMSE: 0.02854\n"
     ]
    },
    {
     "name": "stderr",
     "output_type": "stream",
     "text": [
      "  6%|▌         | 57/1000 [28:09<7:42:06, 29.40s/it]"
     ]
    },
    {
     "name": "stdout",
     "output_type": "stream",
     "text": [
      "Epoch 57 | T: 0.49 | Train RMSE: 0.02780 | Valid RMSE: 0.02892\n"
     ]
    },
    {
     "name": "stderr",
     "output_type": "stream",
     "text": [
      "  6%|▌         | 58/1000 [28:39<7:40:41, 29.34s/it]"
     ]
    },
    {
     "name": "stdout",
     "output_type": "stream",
     "text": [
      "Get best model\n",
      "Epoch 58 | T: 0.49 | Train RMSE: 0.02779 | Valid RMSE: 0.02838\n"
     ]
    },
    {
     "name": "stderr",
     "output_type": "stream",
     "text": [
      "  6%|▌         | 59/1000 [29:08<7:40:58, 29.39s/it]"
     ]
    },
    {
     "name": "stdout",
     "output_type": "stream",
     "text": [
      "Epoch 59 | T: 0.49 | Train RMSE: 0.02771 | Valid RMSE: 0.02856\n"
     ]
    },
    {
     "name": "stderr",
     "output_type": "stream",
     "text": [
      "  6%|▌         | 60/1000 [29:37<7:36:52, 29.16s/it]"
     ]
    },
    {
     "name": "stdout",
     "output_type": "stream",
     "text": [
      "Epoch 60 | T: 0.48 | Train RMSE: 0.02766 | Valid RMSE: 0.02838\n"
     ]
    },
    {
     "name": "stderr",
     "output_type": "stream",
     "text": [
      "  6%|▌         | 61/1000 [30:06<7:35:04, 29.08s/it]"
     ]
    },
    {
     "name": "stdout",
     "output_type": "stream",
     "text": [
      "Get best model\n",
      "Epoch 61 | T: 0.48 | Train RMSE: 0.02762 | Valid RMSE: 0.02834\n"
     ]
    },
    {
     "name": "stderr",
     "output_type": "stream",
     "text": [
      "  6%|▌         | 62/1000 [30:35<7:38:06, 29.30s/it]"
     ]
    },
    {
     "name": "stdout",
     "output_type": "stream",
     "text": [
      "Epoch 62 | T: 0.50 | Train RMSE: 0.02761 | Valid RMSE: 0.02845\n"
     ]
    },
    {
     "name": "stderr",
     "output_type": "stream",
     "text": [
      "  6%|▋         | 63/1000 [31:05<7:39:23, 29.42s/it]"
     ]
    },
    {
     "name": "stdout",
     "output_type": "stream",
     "text": [
      "Epoch 63 | T: 0.49 | Train RMSE: 0.02760 | Valid RMSE: 0.02856\n"
     ]
    },
    {
     "name": "stderr",
     "output_type": "stream",
     "text": [
      "  6%|▋         | 64/1000 [31:35<7:40:56, 29.55s/it]"
     ]
    },
    {
     "name": "stdout",
     "output_type": "stream",
     "text": [
      "Get best model\n",
      "Epoch 64 | T: 0.50 | Train RMSE: 0.02759 | Valid RMSE: 0.02833\n"
     ]
    },
    {
     "name": "stderr",
     "output_type": "stream",
     "text": [
      "  6%|▋         | 65/1000 [32:04<7:39:10, 29.47s/it]"
     ]
    },
    {
     "name": "stdout",
     "output_type": "stream",
     "text": [
      "Get best model\n",
      "Epoch 65 | T: 0.49 | Train RMSE: 0.02757 | Valid RMSE: 0.02826\n"
     ]
    },
    {
     "name": "stderr",
     "output_type": "stream",
     "text": [
      "  7%|▋         | 66/1000 [32:33<7:34:53, 29.22s/it]"
     ]
    },
    {
     "name": "stdout",
     "output_type": "stream",
     "text": [
      "Get best model\n",
      "Epoch 66 | T: 0.48 | Train RMSE: 0.02754 | Valid RMSE: 0.02825\n"
     ]
    },
    {
     "name": "stderr",
     "output_type": "stream",
     "text": [
      "  7%|▋         | 67/1000 [33:02<7:34:42, 29.24s/it]"
     ]
    },
    {
     "name": "stdout",
     "output_type": "stream",
     "text": [
      "Epoch 67 | T: 0.49 | Train RMSE: 0.02752 | Valid RMSE: 0.02840\n"
     ]
    },
    {
     "name": "stderr",
     "output_type": "stream",
     "text": [
      "  7%|▋         | 68/1000 [33:32<7:34:44, 29.28s/it]"
     ]
    },
    {
     "name": "stdout",
     "output_type": "stream",
     "text": [
      "Get best model\n",
      "Epoch 68 | T: 0.49 | Train RMSE: 0.02750 | Valid RMSE: 0.02824\n"
     ]
    },
    {
     "name": "stderr",
     "output_type": "stream",
     "text": [
      "  7%|▋         | 69/1000 [34:00<7:32:33, 29.17s/it]"
     ]
    },
    {
     "name": "stdout",
     "output_type": "stream",
     "text": [
      "Epoch 69 | T: 0.48 | Train RMSE: 0.02750 | Valid RMSE: 0.02824\n"
     ]
    },
    {
     "name": "stderr",
     "output_type": "stream",
     "text": [
      "  7%|▋         | 70/1000 [34:31<7:36:35, 29.46s/it]"
     ]
    },
    {
     "name": "stdout",
     "output_type": "stream",
     "text": [
      "Epoch 70 | T: 0.50 | Train RMSE: 0.02748 | Valid RMSE: 0.02829\n"
     ]
    },
    {
     "name": "stderr",
     "output_type": "stream",
     "text": [
      "  7%|▋         | 71/1000 [35:00<7:36:53, 29.51s/it]"
     ]
    },
    {
     "name": "stdout",
     "output_type": "stream",
     "text": [
      "Epoch 71 | T: 0.49 | Train RMSE: 0.02744 | Valid RMSE: 0.02824\n"
     ]
    },
    {
     "name": "stderr",
     "output_type": "stream",
     "text": [
      "  7%|▋         | 72/1000 [35:30<7:35:35, 29.46s/it]"
     ]
    },
    {
     "name": "stdout",
     "output_type": "stream",
     "text": [
      "Epoch 72 | T: 0.49 | Train RMSE: 0.02745 | Valid RMSE: 0.02827\n"
     ]
    },
    {
     "name": "stderr",
     "output_type": "stream",
     "text": [
      "  7%|▋         | 73/1000 [35:59<7:35:07, 29.46s/it]"
     ]
    },
    {
     "name": "stdout",
     "output_type": "stream",
     "text": [
      "Get best model\n",
      "Epoch 73 | T: 0.49 | Train RMSE: 0.02745 | Valid RMSE: 0.02821\n"
     ]
    },
    {
     "name": "stderr",
     "output_type": "stream",
     "text": [
      "  7%|▋         | 74/1000 [36:28<7:32:15, 29.30s/it]"
     ]
    },
    {
     "name": "stdout",
     "output_type": "stream",
     "text": [
      "Epoch 74 | T: 0.48 | Train RMSE: 0.02742 | Valid RMSE: 0.02823\n"
     ]
    },
    {
     "name": "stderr",
     "output_type": "stream",
     "text": [
      "  8%|▊         | 75/1000 [36:57<7:32:18, 29.34s/it]"
     ]
    },
    {
     "name": "stdout",
     "output_type": "stream",
     "text": [
      "Epoch 75 | T: 0.49 | Train RMSE: 0.02738 | Valid RMSE: 0.02826\n"
     ]
    },
    {
     "name": "stderr",
     "output_type": "stream",
     "text": [
      "  8%|▊         | 76/1000 [37:26<7:30:26, 29.25s/it]"
     ]
    },
    {
     "name": "stdout",
     "output_type": "stream",
     "text": [
      "Epoch 76 | T: 0.48 | Train RMSE: 0.02739 | Valid RMSE: 0.02828\n"
     ]
    },
    {
     "name": "stderr",
     "output_type": "stream",
     "text": [
      "  8%|▊         | 77/1000 [37:56<7:32:31, 29.42s/it]"
     ]
    },
    {
     "name": "stdout",
     "output_type": "stream",
     "text": [
      "Epoch 77 | T: 0.50 | Train RMSE: 0.02738 | Valid RMSE: 0.02822\n"
     ]
    },
    {
     "name": "stderr",
     "output_type": "stream",
     "text": [
      "  8%|▊         | 78/1000 [38:26<7:34:13, 29.56s/it]"
     ]
    },
    {
     "name": "stdout",
     "output_type": "stream",
     "text": [
      "Epoch 78 | T: 0.50 | Train RMSE: 0.02736 | Valid RMSE: 0.02821\n"
     ]
    },
    {
     "name": "stderr",
     "output_type": "stream",
     "text": [
      "  8%|▊         | 79/1000 [38:55<7:31:16, 29.40s/it]"
     ]
    },
    {
     "name": "stdout",
     "output_type": "stream",
     "text": [
      "Epoch 79 | T: 0.48 | Train RMSE: 0.02734 | Valid RMSE: 0.02830\n"
     ]
    },
    {
     "name": "stderr",
     "output_type": "stream",
     "text": [
      "  8%|▊         | 80/1000 [39:24<7:28:35, 29.26s/it]"
     ]
    },
    {
     "name": "stdout",
     "output_type": "stream",
     "text": [
      "Epoch 80 | T: 0.48 | Train RMSE: 0.02736 | Valid RMSE: 0.02829\n"
     ]
    },
    {
     "name": "stderr",
     "output_type": "stream",
     "text": [
      "  8%|▊         | 81/1000 [39:53<7:27:19, 29.20s/it]"
     ]
    },
    {
     "name": "stdout",
     "output_type": "stream",
     "text": [
      "Get best model\n",
      "Epoch 81 | T: 0.48 | Train RMSE: 0.02733 | Valid RMSE: 0.02818\n"
     ]
    },
    {
     "name": "stderr",
     "output_type": "stream",
     "text": [
      "  8%|▊         | 82/1000 [40:23<7:29:13, 29.36s/it]"
     ]
    },
    {
     "name": "stdout",
     "output_type": "stream",
     "text": [
      "Epoch 82 | T: 0.50 | Train RMSE: 0.02731 | Valid RMSE: 0.02830\n"
     ]
    },
    {
     "name": "stderr",
     "output_type": "stream",
     "text": [
      "  8%|▊         | 83/1000 [40:55<7:39:58, 30.10s/it]"
     ]
    },
    {
     "name": "stdout",
     "output_type": "stream",
     "text": [
      "Epoch 83 | T: 0.53 | Train RMSE: 0.02731 | Valid RMSE: 0.02821\n"
     ]
    },
    {
     "name": "stderr",
     "output_type": "stream",
     "text": [
      "  8%|▊         | 84/1000 [41:26<7:46:24, 30.55s/it]"
     ]
    },
    {
     "name": "stdout",
     "output_type": "stream",
     "text": [
      "Epoch 84 | T: 0.53 | Train RMSE: 0.02730 | Valid RMSE: 0.02821\n"
     ]
    },
    {
     "name": "stderr",
     "output_type": "stream",
     "text": [
      "  8%|▊         | 85/1000 [41:56<7:41:43, 30.28s/it]"
     ]
    },
    {
     "name": "stdout",
     "output_type": "stream",
     "text": [
      "Epoch 85 | T: 0.49 | Train RMSE: 0.02728 | Valid RMSE: 0.02823\n"
     ]
    },
    {
     "name": "stderr",
     "output_type": "stream",
     "text": [
      "  9%|▊         | 86/1000 [42:26<7:40:28, 30.23s/it]"
     ]
    },
    {
     "name": "stdout",
     "output_type": "stream",
     "text": [
      "Epoch 86 | T: 0.50 | Train RMSE: 0.02727 | Valid RMSE: 0.02819\n"
     ]
    },
    {
     "name": "stderr",
     "output_type": "stream",
     "text": [
      "  9%|▊         | 87/1000 [42:57<7:41:55, 30.36s/it]"
     ]
    },
    {
     "name": "stdout",
     "output_type": "stream",
     "text": [
      "Epoch 87 | T: 0.51 | Train RMSE: 0.02727 | Valid RMSE: 0.02820\n"
     ]
    },
    {
     "name": "stderr",
     "output_type": "stream",
     "text": [
      "  9%|▉         | 88/1000 [43:27<7:41:38, 30.37s/it]"
     ]
    },
    {
     "name": "stdout",
     "output_type": "stream",
     "text": [
      "Get best model\n",
      "Epoch 88 | T: 0.51 | Train RMSE: 0.02727 | Valid RMSE: 0.02817\n"
     ]
    },
    {
     "name": "stderr",
     "output_type": "stream",
     "text": [
      "  9%|▉         | 89/1000 [43:57<7:39:18, 30.25s/it]"
     ]
    },
    {
     "name": "stdout",
     "output_type": "stream",
     "text": [
      "Epoch 89 | T: 0.50 | Train RMSE: 0.02725 | Valid RMSE: 0.02822\n"
     ]
    },
    {
     "name": "stderr",
     "output_type": "stream",
     "text": [
      "  9%|▉         | 90/1000 [44:28<7:42:08, 30.47s/it]"
     ]
    },
    {
     "name": "stdout",
     "output_type": "stream",
     "text": [
      "Get best model\n",
      "Epoch 90 | T: 0.52 | Train RMSE: 0.02725 | Valid RMSE: 0.02816\n"
     ]
    },
    {
     "name": "stderr",
     "output_type": "stream",
     "text": [
      "  9%|▉         | 91/1000 [44:58<7:37:00, 30.17s/it]"
     ]
    },
    {
     "name": "stdout",
     "output_type": "stream",
     "text": [
      "Get best model\n",
      "Epoch 91 | T: 0.49 | Train RMSE: 0.02724 | Valid RMSE: 0.02815\n"
     ]
    },
    {
     "name": "stderr",
     "output_type": "stream",
     "text": [
      "  9%|▉         | 92/1000 [45:27<7:32:17, 29.89s/it]"
     ]
    },
    {
     "name": "stdout",
     "output_type": "stream",
     "text": [
      "Epoch 92 | T: 0.49 | Train RMSE: 0.02724 | Valid RMSE: 0.02817\n"
     ]
    },
    {
     "name": "stderr",
     "output_type": "stream",
     "text": [
      "  9%|▉         | 93/1000 [45:56<7:28:11, 29.65s/it]"
     ]
    },
    {
     "name": "stdout",
     "output_type": "stream",
     "text": [
      "Epoch 93 | T: 0.48 | Train RMSE: 0.02723 | Valid RMSE: 0.02817\n"
     ]
    },
    {
     "name": "stderr",
     "output_type": "stream",
     "text": [
      "  9%|▉         | 94/1000 [46:25<7:26:06, 29.54s/it]"
     ]
    },
    {
     "name": "stdout",
     "output_type": "stream",
     "text": [
      "Get best model\n",
      "Epoch 94 | T: 0.49 | Train RMSE: 0.02722 | Valid RMSE: 0.02813\n"
     ]
    },
    {
     "name": "stderr",
     "output_type": "stream",
     "text": [
      " 10%|▉         | 95/1000 [46:55<7:26:15, 29.59s/it]"
     ]
    },
    {
     "name": "stdout",
     "output_type": "stream",
     "text": [
      "Epoch 95 | T: 0.49 | Train RMSE: 0.02723 | Valid RMSE: 0.02824\n"
     ]
    },
    {
     "name": "stderr",
     "output_type": "stream",
     "text": [
      " 10%|▉         | 96/1000 [47:24<7:23:16, 29.42s/it]"
     ]
    },
    {
     "name": "stdout",
     "output_type": "stream",
     "text": [
      "Epoch 96 | T: 0.48 | Train RMSE: 0.02722 | Valid RMSE: 0.02817\n"
     ]
    },
    {
     "name": "stderr",
     "output_type": "stream",
     "text": [
      " 10%|▉         | 97/1000 [47:53<7:22:19, 29.39s/it]"
     ]
    },
    {
     "name": "stdout",
     "output_type": "stream",
     "text": [
      "Epoch 97 | T: 0.49 | Train RMSE: 0.02722 | Valid RMSE: 0.02813\n"
     ]
    },
    {
     "name": "stderr",
     "output_type": "stream",
     "text": [
      " 10%|▉         | 98/1000 [48:23<7:21:28, 29.37s/it]"
     ]
    },
    {
     "name": "stdout",
     "output_type": "stream",
     "text": [
      "Epoch 98 | T: 0.49 | Train RMSE: 0.02721 | Valid RMSE: 0.02814\n"
     ]
    },
    {
     "name": "stderr",
     "output_type": "stream",
     "text": [
      " 10%|▉         | 99/1000 [48:51<7:18:59, 29.23s/it]"
     ]
    },
    {
     "name": "stdout",
     "output_type": "stream",
     "text": [
      "Epoch 99 | T: 0.48 | Train RMSE: 0.02720 | Valid RMSE: 0.02813\n"
     ]
    },
    {
     "name": "stderr",
     "output_type": "stream",
     "text": [
      " 10%|█         | 100/1000 [49:21<7:20:54, 29.39s/it]"
     ]
    },
    {
     "name": "stdout",
     "output_type": "stream",
     "text": [
      "Get best model\n",
      "Epoch 100 | T: 0.50 | Train RMSE: 0.02719 | Valid RMSE: 0.02812\n"
     ]
    },
    {
     "name": "stderr",
     "output_type": "stream",
     "text": [
      " 10%|█         | 101/1000 [49:50<7:19:24, 29.33s/it]"
     ]
    },
    {
     "name": "stdout",
     "output_type": "stream",
     "text": [
      "Epoch 101 | T: 0.49 | Train RMSE: 0.02720 | Valid RMSE: 0.02814\n"
     ]
    },
    {
     "name": "stderr",
     "output_type": "stream",
     "text": [
      " 10%|█         | 102/1000 [50:20<7:18:38, 29.31s/it]"
     ]
    },
    {
     "name": "stdout",
     "output_type": "stream",
     "text": [
      "Epoch 102 | T: 0.49 | Train RMSE: 0.02718 | Valid RMSE: 0.02814\n"
     ]
    },
    {
     "name": "stderr",
     "output_type": "stream",
     "text": [
      " 10%|█         | 103/1000 [50:49<7:17:33, 29.27s/it]"
     ]
    },
    {
     "name": "stdout",
     "output_type": "stream",
     "text": [
      "Epoch 103 | T: 0.49 | Train RMSE: 0.02718 | Valid RMSE: 0.02816\n"
     ]
    },
    {
     "name": "stderr",
     "output_type": "stream",
     "text": [
      " 10%|█         | 104/1000 [51:19<7:19:23, 29.42s/it]"
     ]
    },
    {
     "name": "stdout",
     "output_type": "stream",
     "text": [
      "Epoch 104 | T: 0.50 | Train RMSE: 0.02718 | Valid RMSE: 0.02812\n"
     ]
    },
    {
     "name": "stderr",
     "output_type": "stream",
     "text": [
      " 10%|█         | 105/1000 [51:48<7:17:48, 29.35s/it]"
     ]
    },
    {
     "name": "stdout",
     "output_type": "stream",
     "text": [
      "Epoch 105 | T: 0.49 | Train RMSE: 0.02716 | Valid RMSE: 0.02812\n"
     ]
    },
    {
     "name": "stderr",
     "output_type": "stream",
     "text": [
      " 10%|█         | 105/1000 [52:17<7:25:44, 29.88s/it]\n"
     ]
    }
   ],
   "source": [
    "train_rmse = []\n",
    "valid_rmse = []\n",
    "min_rmse = 10e8\n",
    "print(device)\n",
    "for i in trange(num_epoch):\n",
    "    start = time.time()\n",
    "\n",
    "    # model.train() # if you use dropout or batchnorm. \n",
    "    train_rmse.append(train_epoch(train_loader, model, optimizer, loss_fun))\n",
    "\n",
    "    # model.eval()\n",
    "    val_rmse, val_preds, val_trues = eval_epoch(valid_loader, model, loss_fun)\n",
    "    valid_rmse.append(val_rmse)\n",
    "\n",
    "    # save the best model\n",
    "    if valid_rmse[-1] < min_rmse:\n",
    "        min_rmse = valid_rmse[-1] \n",
    "        best_model = model\n",
    "        print('Get best model')\n",
    "        # torch.save([best_model, i, get_lr(optimizer)], name + \".pth\")\n",
    "\n",
    "    end = time.time()\n",
    "    \n",
    "    # Early Stopping\n",
    "    if (len(train_rmse) > 100 and np.mean(valid_rmse[-5:]) >= np.mean(valid_rmse[-10:-5])):\n",
    "            break       \n",
    "\n",
    "    # Learning Rate Decay        \n",
    "    scheduler.step()\n",
    "    \n",
    "    print(\"Epoch {} | T: {:0.2f} | Train RMSE: {:0.5f} | Valid RMSE: {:0.5f}\".format(i + 1, (end-start) / 60, train_rmse[-1], valid_rmse[-1]))"
   ]
  },
  {
   "attachments": {},
   "cell_type": "markdown",
   "id": "540da579-31a5-462c-826b-e8e1c1a2ddd9",
   "metadata": {
    "id": "540da579-31a5-462c-826b-e8e1c1a2ddd9"
   },
   "source": [
    "# Evaluation and Submission"
   ]
  },
  {
   "cell_type": "code",
   "execution_count": 16,
   "id": "66654867-c45e-4ad2-bdb4-ce1d546ea2d2",
   "metadata": {
    "id": "66654867-c45e-4ad2-bdb4-ce1d546ea2d2",
    "tags": []
   },
   "outputs": [],
   "source": [
    "test_path = \"./val_in/val_in/\"\n",
    "test_pkl_list = glob(os.path.join(test_path, '*'))\n",
    "test_pkl_list.sort()\n",
    "\n",
    "test_preds = []\n",
    "for idx in range(len(test_pkl_list)):\n",
    "    with open(test_pkl_list[idx], 'rb') as f:\n",
    "        test_sample = pickle.load(f)\n",
    "        pred_id = np.where(test_sample[\"track_id\"] == test_sample['agent_id'])[0][0]\n",
    "        mask = np.where(test_sample['car_mask'] == 1)[0]\n",
    "        # input: p_in & v_in; output: p_out\n",
    "        \n",
    "        p_in_raw = test_sample['p_in']\n",
    "        #p_out_raw = test_sample['p_out'][pred_id]\n",
    "        v_in_raw = test_sample['v_in']\n",
    "        lane_scene = test_sample['lane']\n",
    "        \n",
    "        # Normalization\n",
    "        min_vecs = np.min(lane_scene, axis = 0)\n",
    "        max_vecs = np.max(lane_scene, axis = 0)\n",
    "        \n",
    "        # Normalize by vectors\n",
    "        p_in_norm = (p_in_raw - min_vecs)/(max_vecs - min_vecs)\n",
    "        \n",
    "        v_in_norm = np.linalg.norm(v_in_raw, axis=1, keepdims=True)\n",
    "        v_in_norm = np.where(v_in_norm == 0.0, 1.0, v_in_norm)\n",
    "        v_in_norm = v_in_raw / v_in_norm\n",
    "        # v_out_normalized = v_out_raw / np.linalg.norm(v_out_raw, axis=1, keepdims=True)\n",
    "        p_track = p_in_norm[mask].reshape(-1,19*2)\n",
    "        v_track = v_in_norm[mask].reshape(-1,19*2)\n",
    "        \n",
    "        p_agent = p_in_norm[pred_id].reshape(1,-1)\n",
    "        v_agent = v_in_norm[pred_id].reshape(1,-1)\n",
    "        new_mask = []\n",
    "        p_result = []\n",
    "        v_result = []\n",
    "        if (len(mask) > 10):\n",
    "            \n",
    "            dist = ((p_track - p_agent)**2).sum(axis=-1)\n",
    "            #print('dist is ',dist.shape)\n",
    "            new_mask = np.argpartition(dist,10)[:10]\n",
    "            \n",
    "            p_result = p_track[new_mask,:]\n",
    "            v_result = v_track[new_mask,:]\n",
    "        else:\n",
    "            p_result = np.zeros((10,38))\n",
    "            v_result = np.zeros((10,38))\n",
    "            k = p_track.shape[0]\n",
    "            #print('slice',k)\n",
    "            p_result[:k] = p_track\n",
    "            v_result[:k] = v_track\n",
    "        \n",
    "        #print('shape is',p_agent.shape,v_agent.shape,p_result.shape,v_result.shape)\n",
    "        inp = np.vstack((p_agent,v_agent,p_result,v_result)).reshape(1,22,38)\n",
    "        inp = torch.from_numpy(inp).to(device,dtype=torch.float)\n",
    "        preds,_ = model(inp)\n",
    "        preds = preds.squeeze(0)\n",
    "        pred = preds[-1, :].cpu().data.numpy()\n",
    "        pred = rearrange(pred, \"(b c) -> b c\", c =2 )\n",
    "        # De-Normalization ! \n",
    "        pred = pred * (max_vecs[:2] - min_vecs[:2]) +  min_vecs[:2]\n",
    "        test_preds.append(pred)"
   ]
  },
  {
   "attachments": {},
   "cell_type": "markdown",
   "id": "f945f2f3-2b73-471f-91e5-87c63eb06a77",
   "metadata": {
    "id": "f945f2f3-2b73-471f-91e5-87c63eb06a77"
   },
   "source": [
    "# Generate Submission File"
   ]
  },
  {
   "cell_type": "code",
   "execution_count": 17,
   "id": "af9c27f8-a65b-48ce-861b-262c3f0422e6",
   "metadata": {
    "id": "af9c27f8-a65b-48ce-861b-262c3f0422e6"
   },
   "outputs": [],
   "source": [
    "# # Submission Files\n",
    "sample_sub = pd.read_csv('sample_submission.csv')"
   ]
  },
  {
   "cell_type": "code",
   "execution_count": 18,
   "id": "f01524a4-5473-4c1f-9991-46fd62162e20",
   "metadata": {
    "id": "f01524a4-5473-4c1f-9991-46fd62162e20"
   },
   "outputs": [],
   "source": [
    "# Convert to int\n",
    "predictions = np.concatenate(test_preds).reshape(len(test_preds), -1).astype(int)\n",
    "sub_df = pd.DataFrame(np.c_[sample_sub[\"ID\"], predictions], columns=[np.r_[[\"ID\"], [\"v\" + str(i) for i in range(1, 61)]]])\n",
    "sub_df.to_csv('test_submission.csv', index=None)"
   ]
  },
  {
   "cell_type": "code",
   "execution_count": null,
   "id": "RGiqLaD1PEDW",
   "metadata": {
    "id": "RGiqLaD1PEDW"
   },
   "outputs": [],
   "source": []
  }
 ],
 "metadata": {
  "accelerator": "GPU",
  "colab": {
   "provenance": []
  },
  "gpuClass": "standard",
  "kernelspec": {
   "display_name": "Python 3 (ipykernel)",
   "language": "python",
   "name": "python3"
  },
  "language_info": {
   "codemirror_mode": {
    "name": "ipython",
    "version": 3
   },
   "file_extension": ".py",
   "mimetype": "text/x-python",
   "name": "python",
   "nbconvert_exporter": "python",
   "pygments_lexer": "ipython3",
   "version": "3.7.16"
  }
 },
 "nbformat": 4,
 "nbformat_minor": 5
}
