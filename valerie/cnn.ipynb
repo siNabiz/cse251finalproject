{
 "cells": [
  {
   "cell_type": "code",
   "execution_count": 227,
   "metadata": {},
   "outputs": [],
   "source": [
    "import os\n",
    "# os.environ[\"CUDA_DEVICE_ORDER\"] = \"PCI_BUS_ID\"\n",
    "# os.environ[\"CUDA_VISIBLE_DEVICES\"] = \"1\"\n",
    "\n",
    "import pickle\n",
    "from glob import glob\n",
    "import numpy as np\n",
    "import torch\n",
    "import torch.nn as nn\n",
    "from torch.utils.data import random_split\n",
    "import pandas as pd\n",
    "import time\n",
    "from tqdm import tqdm\n",
    "\n",
    "device = torch.device(\"cuda\" if torch.cuda.is_available() else \"cpu\")"
   ]
  },
  {
   "attachments": {},
   "cell_type": "markdown",
   "metadata": {},
   "source": [
    "# Hyper-parameter"
   ]
  },
  {
   "cell_type": "code",
   "execution_count": 228,
   "metadata": {},
   "outputs": [],
   "source": [
    "batch_size = 256\n",
    "in_dim = 4\n",
    "in_len = 19\n",
    "out_dim = 4\n",
    "out_len = 30\n",
    "hidden_dim = 128\n",
    "num_layers = 2\n",
    "learning_rate = 0.001\n",
    "decay_rate = 0.95\n",
    "num_epoch = 1000\n",
    "name = 'cnn_1_32'\n",
    "model_name = name + '_model.pth'\n",
    "submission_name = name + '_submission.csv'"
   ]
  },
  {
   "attachments": {},
   "cell_type": "markdown",
   "metadata": {},
   "source": [
    "# CNN"
   ]
  },
  {
   "cell_type": "code",
   "execution_count": 229,
   "metadata": {},
   "outputs": [],
   "source": [
    "class CNNModel(nn.Module):\n",
    "    def __init__(self):\n",
    "        super(CNNModel, self).__init__()\n",
    "        \n",
    "        self.conv1 = nn.Conv1d(4, 32, kernel_size=5)\n",
    "        self.flatten = nn.Flatten()\n",
    "        self.fc = nn.Sequential(\n",
    "            nn.Linear(480, 256),\n",
    "            nn.ReLU(),\n",
    "            nn.Linear(256, 128),\n",
    "            nn.ReLU(),\n",
    "            nn.Linear(128, 60)\n",
    "        )\n",
    "        \n",
    "    def forward(self, x):\n",
    "        out = nn.functional.relu(self.conv1(x))\n",
    "        out = self.fc(self.flatten(out))\n",
    "        return out"
   ]
  },
  {
   "attachments": {},
   "cell_type": "markdown",
   "metadata": {},
   "source": [
    "# Dataset"
   ]
  },
  {
   "cell_type": "code",
   "execution_count": 230,
   "metadata": {},
   "outputs": [],
   "source": [
    "class ArgoverseDataset(torch.utils.data.Dataset):\n",
    "    \"\"\"Dataset class for Argoverse\"\"\"\n",
    "    \n",
    "    def __init__(self, \n",
    "                 data_path,\n",
    "                 sample_indices):\n",
    "        super(ArgoverseDataset, self).__init__()\n",
    "        \n",
    "        self.data_path = data_path\n",
    "        self.sample_indices = sample_indices\n",
    "        self.pkl_list = glob(os.path.join(self.data_path, '*'))\n",
    "        self.pkl_list.sort()\n",
    "        \n",
    "    def __len__(self):\n",
    "        return len(self.sample_indices)\n",
    "\n",
    "    def __getitem__(self, idx):\n",
    "        \n",
    "        # Load one scene\n",
    "        pkl_path = self.pkl_list[self.sample_indices[idx]]\n",
    "        with open(pkl_path, 'rb') as f:\n",
    "            scene = pickle.load(f)\n",
    "            \n",
    "        # the index of agent to be predicted \n",
    "        pred_id = np.where(scene[\"track_id\"] == scene['agent_id'])[0][0]\n",
    "        \n",
    "        # input: p_in & v_in; output: p_out\n",
    "        p_in_raw = scene['p_in'][pred_id]\n",
    "        p_out_raw = scene['p_out'][pred_id]\n",
    "        v_in_raw = scene['v_in'][pred_id]\n",
    "        lane_scene = scene['lane']\n",
    "        \n",
    "        # Normalization\n",
    "        min_vecs = np.min(lane_scene, axis = 0)\n",
    "        max_vecs = np.max(lane_scene, axis = 0)\n",
    "        \n",
    "        # Normalize by vectors\n",
    "        p_in_normalized = (p_in_raw - min_vecs)/(max_vecs - min_vecs)\n",
    "        p_out_normalized = (p_out_raw - min_vecs)/(max_vecs - min_vecs)\n",
    "        v_in_norm = np.linalg.norm(v_in_raw, axis=1, keepdims=True)\n",
    "        v_in_norm = np.where(v_in_norm == 0.0, 1.0, v_in_norm)\n",
    "        v_in_normalized = v_in_raw / v_in_norm\n",
    "        inp = np.concatenate((p_in_normalized,v_in_normalized),axis=1)\n",
    "\n",
    "        # Convert to float torch tensor\n",
    "        return torch.from_numpy(inp).T.float(), torch.from_numpy(p_out_normalized).flatten().float()"
   ]
  },
  {
   "cell_type": "code",
   "execution_count": 231,
   "metadata": {},
   "outputs": [],
   "source": [
    "class PVDataset(torch.utils.data.Dataset):\n",
    "    def __init__(self, \n",
    "                 x_data_path,\n",
    "                 y_data_path):\n",
    "        super(PVDataset, self).__init__()\n",
    "        \n",
    "        self.X = np.load(x_data_path)\n",
    "        self.y = np.load(y_data_path)\n",
    "\n",
    "    def __len__(self):\n",
    "        return len(self.X)\n",
    "    \n",
    "    def __getitem__(self, idx):\n",
    "        sample_x = self.X[idx]\n",
    "        sample_y = self.y[idx]\n",
    "        return torch.from_numpy(sample_x).float(), torch.from_numpy(sample_y).float()"
   ]
  },
  {
   "attachments": {},
   "cell_type": "markdown",
   "metadata": {},
   "source": [
    "# Data Loader"
   ]
  },
  {
   "cell_type": "code",
   "execution_count": 232,
   "metadata": {},
   "outputs": [],
   "source": [
    "# train_path = \"./train\"\n",
    "\n",
    "# # total number of scenes\n",
    "# indices = np.arange(0, 205942)\n",
    "\n",
    "# # train-valid split\n",
    "# np.random.shuffle(indices)\n",
    "# train_indices = indices[:180000]\n",
    "# valid_indices = indices[180000:]\n",
    "\n",
    "# # define datasets\n",
    "# train_set = PVDataset('train_X_cnn.npy', 'train_y_cnn.npy', train_indices)\n",
    "# valid_set = PVDataset('train_X_cnn.npy', 'train_y_cnn.npy', valid_indices)\n",
    "\n",
    "# # create dataloaders\n",
    "# train_loader = torch.utils.data.DataLoader(train_set, batch_size=batch_size, shuffle=True)\n",
    "# valid_loader = torch.utils.data.DataLoader(valid_set, batch_size=batch_size, shuffle=False)"
   ]
  },
  {
   "attachments": {},
   "cell_type": "markdown",
   "metadata": {},
   "source": [
    "# Model, Loss Function and Optimizer"
   ]
  },
  {
   "cell_type": "code",
   "execution_count": 233,
   "metadata": {},
   "outputs": [],
   "source": [
    "model = CNNModel().to(device)\n",
    "criterion = nn.MSELoss()\n",
    "optimizer = torch.optim.Adam(model.parameters(), lr=learning_rate)\n",
    "scheduler = torch.optim.lr_scheduler.StepLR(optimizer, step_size=1, gamma=decay_rate)"
   ]
  },
  {
   "attachments": {},
   "cell_type": "markdown",
   "metadata": {},
   "source": [
    "# Training"
   ]
  },
  {
   "cell_type": "code",
   "execution_count": 234,
   "metadata": {},
   "outputs": [],
   "source": [
    "def get_lr(optimizer):\n",
    "    for param_group in optimizer.param_groups:\n",
    "        return param_group['lr']\n",
    "\n",
    "def train_epoch(train_loader, model, optimizer, criterion):\n",
    "    running_loss = 0.0\n",
    "    for inputs, targets in train_loader:\n",
    "        inputs = inputs.to(device)\n",
    "        targets = targets.to(device)\n",
    "\n",
    "        optimizer.zero_grad()\n",
    "\n",
    "        outputs = model(inputs)\n",
    "\n",
    "        loss = criterion(outputs, targets)\n",
    "        loss.backward()\n",
    "\n",
    "        optimizer.step()\n",
    "\n",
    "        running_loss += loss.item() * inputs.size(0)\n",
    "    return running_loss / len(train_loader)\n",
    "\n",
    "def eval_epoch(valid_loader, model, criterion):\n",
    "    val_loss = 0.0\n",
    "    with torch.no_grad():\n",
    "        for inputs, targets in valid_loader:\n",
    "            inputs = inputs.to(device)\n",
    "            targets = targets.to(device)\n",
    "\n",
    "            outputs = model(inputs)\n",
    "\n",
    "            loss = criterion(outputs, targets)\n",
    "            val_loss += loss.item() * inputs.size(0)\n",
    "\n",
    "    return val_loss / len(valid_loader.dataset)"
   ]
  },
  {
   "cell_type": "code",
   "execution_count": 235,
   "metadata": {},
   "outputs": [
    {
     "name": "stdout",
     "output_type": "stream",
     "text": [
      "Epoch 1 | T: 0.10 | Train RMSE: 1.85105 | Valid RMSE: 0.00298\n",
      "Epoch 2 | T: 0.10 | Train RMSE: 0.41724 | Valid RMSE: 0.00222\n",
      "Epoch 3 | T: 0.09 | Train RMSE: 0.37443 | Valid RMSE: 0.00139\n",
      "Epoch 4 | T: 0.09 | Train RMSE: 0.34689 | Valid RMSE: 0.00139\n",
      "Epoch 5 | T: 0.10 | Train RMSE: 0.34033 | Valid RMSE: 0.00199\n",
      "Epoch 6 | T: 0.11 | Train RMSE: 0.32401 | Valid RMSE: 0.00296\n",
      "Epoch 7 | T: 0.10 | Train RMSE: 0.31824 | Valid RMSE: 0.00130\n",
      "Epoch 8 | T: 0.11 | Train RMSE: 0.31211 | Valid RMSE: 0.00136\n",
      "Epoch 9 | T: 0.10 | Train RMSE: 0.30045 | Valid RMSE: 0.00150\n",
      "Epoch 10 | T: 0.10 | Train RMSE: 0.29263 | Valid RMSE: 0.00134\n",
      "Epoch 11 | T: 0.09 | Train RMSE: 0.28769 | Valid RMSE: 0.00117\n",
      "Epoch 12 | T: 0.10 | Train RMSE: 0.28499 | Valid RMSE: 0.00106\n",
      "Epoch 13 | T: 0.09 | Train RMSE: 0.27579 | Valid RMSE: 0.00225\n",
      "Epoch 14 | T: 0.10 | Train RMSE: 0.27700 | Valid RMSE: 0.00111\n",
      "Epoch 15 | T: 0.10 | Train RMSE: 0.26682 | Valid RMSE: 0.00165\n",
      "Epoch 16 | T: 0.09 | Train RMSE: 0.26427 | Valid RMSE: 0.00170\n",
      "Epoch 17 | T: 0.10 | Train RMSE: 0.25832 | Valid RMSE: 0.00105\n",
      "Epoch 18 | T: 0.09 | Train RMSE: 0.25608 | Valid RMSE: 0.00364\n",
      "Epoch 19 | T: 0.09 | Train RMSE: 0.25574 | Valid RMSE: 0.00159\n",
      "Epoch 20 | T: 0.10 | Train RMSE: 0.24772 | Valid RMSE: 0.00097\n",
      "Epoch 21 | T: 0.10 | Train RMSE: 0.24451 | Valid RMSE: 0.00110\n",
      "Epoch 22 | T: 0.10 | Train RMSE: 0.24198 | Valid RMSE: 0.00126\n",
      "Epoch 23 | T: 0.11 | Train RMSE: 0.24195 | Valid RMSE: 0.00125\n",
      "Epoch 24 | T: 0.09 | Train RMSE: 0.23724 | Valid RMSE: 0.00096\n",
      "Epoch 25 | T: 0.10 | Train RMSE: 0.23449 | Valid RMSE: 0.00111\n",
      "Epoch 26 | T: 0.11 | Train RMSE: 0.23291 | Valid RMSE: 0.00103\n",
      "Epoch 27 | T: 0.10 | Train RMSE: 0.23082 | Valid RMSE: 0.00104\n",
      "Epoch 28 | T: 0.11 | Train RMSE: 0.22825 | Valid RMSE: 0.00095\n",
      "Epoch 29 | T: 0.09 | Train RMSE: 0.22654 | Valid RMSE: 0.00106\n",
      "Epoch 30 | T: 0.10 | Train RMSE: 0.22586 | Valid RMSE: 0.00090\n",
      "Epoch 31 | T: 0.10 | Train RMSE: 0.22307 | Valid RMSE: 0.00093\n",
      "Epoch 32 | T: 0.10 | Train RMSE: 0.22233 | Valid RMSE: 0.00132\n",
      "Epoch 33 | T: 0.10 | Train RMSE: 0.22311 | Valid RMSE: 0.00137\n",
      "Epoch 34 | T: 0.10 | Train RMSE: 0.22126 | Valid RMSE: 0.00114\n",
      "Epoch 35 | T: 0.09 | Train RMSE: 0.21914 | Valid RMSE: 0.00101\n",
      "Epoch 36 | T: 0.09 | Train RMSE: 0.21752 | Valid RMSE: 0.00090\n",
      "Epoch 37 | T: 0.11 | Train RMSE: 0.21671 | Valid RMSE: 0.00134\n",
      "Epoch 38 | T: 0.11 | Train RMSE: 0.21734 | Valid RMSE: 0.00091\n",
      "Epoch 39 | T: 0.10 | Train RMSE: 0.21463 | Valid RMSE: 0.00087\n",
      "Epoch 40 | T: 0.10 | Train RMSE: 0.21375 | Valid RMSE: 0.00104\n",
      "Epoch 41 | T: 0.10 | Train RMSE: 0.21315 | Valid RMSE: 0.00086\n",
      "Epoch 42 | T: 0.10 | Train RMSE: 0.21254 | Valid RMSE: 0.00095\n",
      "Epoch 43 | T: 0.09 | Train RMSE: 0.21264 | Valid RMSE: 0.00216\n",
      "Epoch 44 | T: 0.10 | Train RMSE: 0.21610 | Valid RMSE: 0.00087\n",
      "Epoch 45 | T: 0.10 | Train RMSE: 0.21080 | Valid RMSE: 0.00086\n",
      "Epoch 46 | T: 0.10 | Train RMSE: 0.20933 | Valid RMSE: 0.00095\n",
      "Epoch 47 | T: 0.11 | Train RMSE: 0.20935 | Valid RMSE: 0.00089\n",
      "Epoch 48 | T: 0.09 | Train RMSE: 0.20887 | Valid RMSE: 0.00109\n",
      "Epoch 49 | T: 0.11 | Train RMSE: 0.20946 | Valid RMSE: 0.00084\n",
      "Epoch 50 | T: 0.10 | Train RMSE: 0.20747 | Valid RMSE: 0.00089\n",
      "Epoch 51 | T: 0.09 | Train RMSE: 0.20739 | Valid RMSE: 0.00083\n",
      "Epoch 52 | T: 0.11 | Train RMSE: 0.20694 | Valid RMSE: 0.00083\n",
      "Epoch 53 | T: 0.09 | Train RMSE: 0.20613 | Valid RMSE: 0.00090\n",
      "Epoch 54 | T: 0.10 | Train RMSE: 0.20585 | Valid RMSE: 0.00098\n",
      "Epoch 55 | T: 0.09 | Train RMSE: 0.20597 | Valid RMSE: 0.00086\n",
      "Epoch 56 | T: 0.10 | Train RMSE: 0.20484 | Valid RMSE: 0.00083\n",
      "Epoch 57 | T: 0.10 | Train RMSE: 0.20482 | Valid RMSE: 0.00085\n",
      "Epoch 58 | T: 0.10 | Train RMSE: 0.20422 | Valid RMSE: 0.00082\n",
      "Epoch 59 | T: 0.10 | Train RMSE: 0.20376 | Valid RMSE: 0.00083\n",
      "Epoch 60 | T: 0.11 | Train RMSE: 0.20373 | Valid RMSE: 0.00085\n",
      "Epoch 61 | T: 0.10 | Train RMSE: 0.20337 | Valid RMSE: 0.00083\n",
      "Epoch 62 | T: 0.10 | Train RMSE: 0.20279 | Valid RMSE: 0.00083\n",
      "Epoch 63 | T: 0.09 | Train RMSE: 0.20277 | Valid RMSE: 0.00085\n",
      "Epoch 64 | T: 0.10 | Train RMSE: 0.20264 | Valid RMSE: 0.00083\n",
      "Epoch 65 | T: 0.10 | Train RMSE: 0.20213 | Valid RMSE: 0.00086\n",
      "Epoch 66 | T: 0.10 | Train RMSE: 0.20212 | Valid RMSE: 0.00083\n",
      "Epoch 67 | T: 0.11 | Train RMSE: 0.20177 | Valid RMSE: 0.00084\n",
      "Epoch 68 | T: 0.11 | Train RMSE: 0.20151 | Valid RMSE: 0.00083\n",
      "Epoch 69 | T: 0.11 | Train RMSE: 0.20114 | Valid RMSE: 0.00083\n",
      "Epoch 70 | T: 0.11 | Train RMSE: 0.20105 | Valid RMSE: 0.00082\n",
      "Epoch 71 | T: 0.11 | Train RMSE: 0.20078 | Valid RMSE: 0.00082\n",
      "Epoch 72 | T: 0.10 | Train RMSE: 0.20072 | Valid RMSE: 0.00082\n",
      "Epoch 73 | T: 0.10 | Train RMSE: 0.20055 | Valid RMSE: 0.00081\n",
      "Epoch 74 | T: 0.10 | Train RMSE: 0.20038 | Valid RMSE: 0.00089\n",
      "Epoch 75 | T: 0.10 | Train RMSE: 0.20094 | Valid RMSE: 0.00081\n",
      "Epoch 76 | T: 0.10 | Train RMSE: 0.19990 | Valid RMSE: 0.00082\n",
      "Epoch 77 | T: 0.10 | Train RMSE: 0.19964 | Valid RMSE: 0.00083\n",
      "Epoch 78 | T: 0.10 | Train RMSE: 0.19975 | Valid RMSE: 0.00082\n",
      "Epoch 79 | T: 0.11 | Train RMSE: 0.19954 | Valid RMSE: 0.00084\n",
      "Epoch 80 | T: 0.10 | Train RMSE: 0.20010 | Valid RMSE: 0.00081\n",
      "Epoch 81 | T: 0.11 | Train RMSE: 0.19915 | Valid RMSE: 0.00081\n",
      "Epoch 82 | T: 0.10 | Train RMSE: 0.19927 | Valid RMSE: 0.00082\n",
      "Epoch 83 | T: 0.11 | Train RMSE: 0.19907 | Valid RMSE: 0.00081\n",
      "Epoch 84 | T: 0.10 | Train RMSE: 0.19885 | Valid RMSE: 0.00085\n",
      "Epoch 85 | T: 0.09 | Train RMSE: 0.19902 | Valid RMSE: 0.00081\n",
      "Epoch 86 | T: 0.10 | Train RMSE: 0.19865 | Valid RMSE: 0.00081\n",
      "Epoch 87 | T: 0.09 | Train RMSE: 0.19855 | Valid RMSE: 0.00081\n",
      "Epoch 88 | T: 0.09 | Train RMSE: 0.19858 | Valid RMSE: 0.00082\n",
      "Epoch 89 | T: 0.10 | Train RMSE: 0.19851 | Valid RMSE: 0.00081\n",
      "Epoch 90 | T: 0.10 | Train RMSE: 0.19840 | Valid RMSE: 0.00081\n",
      "Epoch 91 | T: 0.11 | Train RMSE: 0.19825 | Valid RMSE: 0.00081\n",
      "Epoch 92 | T: 0.11 | Train RMSE: 0.19826 | Valid RMSE: 0.00081\n",
      "Epoch 93 | T: 0.11 | Train RMSE: 0.19815 | Valid RMSE: 0.00081\n",
      "Epoch 94 | T: 0.10 | Train RMSE: 0.19806 | Valid RMSE: 0.00081\n",
      "Epoch 95 | T: 0.09 | Train RMSE: 0.19794 | Valid RMSE: 0.00081\n",
      "Epoch 96 | T: 0.10 | Train RMSE: 0.19791 | Valid RMSE: 0.00081\n",
      "Epoch 97 | T: 0.09 | Train RMSE: 0.19783 | Valid RMSE: 0.00081\n",
      "Epoch 98 | T: 0.10 | Train RMSE: 0.19781 | Valid RMSE: 0.00081\n",
      "Epoch 99 | T: 0.10 | Train RMSE: 0.19766 | Valid RMSE: 0.00081\n",
      "Epoch 100 | T: 0.10 | Train RMSE: 0.19771 | Valid RMSE: 0.00081\n",
      "Epoch 101 | T: 0.11 | Train RMSE: 0.19765 | Valid RMSE: 0.00081\n",
      "Epoch 102 | T: 0.11 | Train RMSE: 0.19767 | Valid RMSE: 0.00081\n",
      "Epoch 103 | T: 0.09 | Train RMSE: 0.19752 | Valid RMSE: 0.00081\n"
     ]
    }
   ],
   "source": [
    "train_rmse = []\n",
    "valid_rmse = []\n",
    "min_rmse = 10e8\n",
    "\n",
    "dataset = PVDataset('train_X_cnn.npy', 'train_y_cnn.npy')\n",
    "\n",
    "for epoch in range(num_epoch):\n",
    "    start = time.time()\n",
    "    train_set, valid_set = random_split(\n",
    "        dataset=dataset,\n",
    "        lengths=[0.9, 0.1],\n",
    "        generator=torch.Generator().manual_seed(0)\n",
    "    )\n",
    "\n",
    "    # create dataloaders\n",
    "    train_loader = torch.utils.data.DataLoader(train_set, batch_size=batch_size, shuffle=True)\n",
    "    valid_loader = torch.utils.data.DataLoader(valid_set, batch_size=batch_size, shuffle=False)\n",
    "\n",
    "    model.train() # if you use dropout or batchnorm. \n",
    "    train_rmse.append(train_epoch(train_loader, model, optimizer, criterion))\n",
    "\n",
    "    model.eval()\n",
    "    valid_rmse.append(eval_epoch(valid_loader, model, criterion))\n",
    "\n",
    "    # save the best model\n",
    "    if valid_rmse[-1] < min_rmse:\n",
    "        min_rmse = valid_rmse[-1] \n",
    "        best_model = model\n",
    "        torch.save([best_model, epoch, get_lr(optimizer)], model_name)\n",
    "\n",
    "    end = time.time()\n",
    "    \n",
    "    # Early Stopping\n",
    "    if (len(train_rmse) > 100 and np.mean(valid_rmse[-5:]) >= np.mean(valid_rmse[-10:-5])):\n",
    "            break       \n",
    "\n",
    "    # Learning Rate Decay        \n",
    "    scheduler.step()\n",
    "    \n",
    "    print(\"Epoch {} | T: {:0.2f} | Train RMSE: {:0.5f} | Valid RMSE: {:0.5f}\".format(epoch + 1, (end-start) / 60, train_rmse[-1], valid_rmse[-1]))"
   ]
  },
  {
   "attachments": {},
   "cell_type": "markdown",
   "metadata": {},
   "source": [
    "# Evaluation and Submission"
   ]
  },
  {
   "cell_type": "code",
   "execution_count": 236,
   "metadata": {},
   "outputs": [
    {
     "data": {
      "text/plain": [
       "CNNModel(\n",
       "  (conv1): Conv1d(4, 32, kernel_size=(5,), stride=(1,))\n",
       "  (flatten): Flatten(start_dim=1, end_dim=-1)\n",
       "  (fc): Sequential(\n",
       "    (0): Linear(in_features=480, out_features=256, bias=True)\n",
       "    (1): ReLU()\n",
       "    (2): Linear(in_features=256, out_features=128, bias=True)\n",
       "    (3): ReLU()\n",
       "    (4): Linear(in_features=128, out_features=60, bias=True)\n",
       "  )\n",
       ")"
      ]
     },
     "execution_count": 236,
     "metadata": {},
     "output_type": "execute_result"
    }
   ],
   "source": [
    "best_model, _, _ = torch.load(model_name)\n",
    "best_model"
   ]
  },
  {
   "cell_type": "code",
   "execution_count": 237,
   "metadata": {},
   "outputs": [
    {
     "name": "stderr",
     "output_type": "stream",
     "text": [
      "100%|██████████| 3200/3200 [00:04<00:00, 645.55it/s]\n"
     ]
    }
   ],
   "source": [
    "test_path = \"./val_in/val_in/\"\n",
    "test_pkl_list = glob(os.path.join(test_path, '*'))\n",
    "test_pkl_list.sort()\n",
    "\n",
    "test_preds = []\n",
    "best_model.eval()\n",
    "for test_pkl_path in tqdm(test_pkl_list):\n",
    "    with open(test_pkl_path, 'rb') as f:\n",
    "        scene = pickle.load(f)\n",
    "        pred_id = np.where(scene[\"track_id\"] == scene['agent_id'])[0][0]\n",
    "        # input: p_in & v_in; output: p_out\n",
    "        p_in_raw = scene['p_in'][pred_id]\n",
    "        v_in_raw = scene['v_in'][pred_id]\n",
    "        lane_scene = scene['lane']\n",
    "        \n",
    "        # Normalization\n",
    "        min_vecs = np.min(lane_scene, axis = 0)\n",
    "        max_vecs = np.max(lane_scene, axis = 0)\n",
    "        \n",
    "        # Normalize by vectors\n",
    "        p_in_normalized = (p_in_raw - min_vecs)/(max_vecs - min_vecs)\n",
    "        v_in_norm = np.linalg.norm(v_in_raw, axis=1, keepdims=True)\n",
    "        v_in_norm = np.where(v_in_norm == 0.0, 1.0, v_in_norm)\n",
    "        v_in_normalized = v_in_raw / v_in_norm\n",
    "        inp = np.concatenate((p_in_normalized,v_in_normalized),axis=1)\n",
    "        inp = torch.from_numpy(inp).float().T.unsqueeze(0).to(device)\n",
    "\n",
    "        output = best_model(inp)\n",
    "        output = output.cpu().detach().numpy()\n",
    "        output.resize((30,2))\n",
    "        # De-Normalization ! \n",
    "        output = output * (max_vecs[:2] - min_vecs[:2]) +  min_vecs[:2]\n",
    "        test_preds.append(output)"
   ]
  },
  {
   "attachments": {},
   "cell_type": "markdown",
   "metadata": {},
   "source": [
    "# Generate Submission File"
   ]
  },
  {
   "cell_type": "code",
   "execution_count": 238,
   "metadata": {},
   "outputs": [],
   "source": [
    "# # Submission Files\n",
    "sample_sub = pd.read_csv('sample_submission.csv')"
   ]
  },
  {
   "cell_type": "code",
   "execution_count": 239,
   "metadata": {},
   "outputs": [
    {
     "data": {
      "text/plain": [
       "ID     int64\n",
       "v1     int64\n",
       "v2     int64\n",
       "v3     int64\n",
       "v4     int64\n",
       "       ...  \n",
       "v56    int64\n",
       "v57    int64\n",
       "v58    int64\n",
       "v59    int64\n",
       "v60    int64\n",
       "Length: 61, dtype: object"
      ]
     },
     "execution_count": 239,
     "metadata": {},
     "output_type": "execute_result"
    }
   ],
   "source": [
    "# Convert to int\n",
    "predictions = np.concatenate(test_preds).reshape(len(test_preds), -1).astype(int)\n",
    "sub_df = pd.DataFrame(np.c_[sample_sub[\"ID\"], predictions], columns=[np.r_[[\"ID\"], [\"v\" + str(i) for i in range(1, 61)]]])\n",
    "sub_df.to_csv(submission_name, index=None)\n",
    "sub_df.dtypes"
   ]
  },
  {
   "cell_type": "code",
   "execution_count": 240,
   "metadata": {},
   "outputs": [
    {
     "data": {
      "text/plain": [
       "ID     int64\n",
       "v1     int64\n",
       "v2     int64\n",
       "v3     int64\n",
       "v4     int64\n",
       "       ...  \n",
       "v56    int64\n",
       "v57    int64\n",
       "v58    int64\n",
       "v59    int64\n",
       "v60    int64\n",
       "Length: 61, dtype: object"
      ]
     },
     "execution_count": 240,
     "metadata": {},
     "output_type": "execute_result"
    }
   ],
   "source": [
    "sub_df.dtypes"
   ]
  },
  {
   "cell_type": "code",
   "execution_count": null,
   "metadata": {},
   "outputs": [],
   "source": []
  }
 ],
 "metadata": {
  "kernelspec": {
   "display_name": "Python 3",
   "language": "python",
   "name": "python3"
  },
  "language_info": {
   "codemirror_mode": {
    "name": "ipython",
    "version": 3
   },
   "file_extension": ".py",
   "mimetype": "text/x-python",
   "name": "python",
   "nbconvert_exporter": "python",
   "pygments_lexer": "ipython3",
   "version": "3.11.2"
  },
  "orig_nbformat": 4
 },
 "nbformat": 4,
 "nbformat_minor": 2
}
