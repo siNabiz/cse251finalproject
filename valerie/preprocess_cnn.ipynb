{
 "cells": [
  {
   "cell_type": "code",
   "execution_count": 1,
   "metadata": {},
   "outputs": [],
   "source": [
    "import pickle\n",
    "from glob import glob\n",
    "import numpy as np\n",
    "import os\n",
    "from tqdm import tqdm"
   ]
  },
  {
   "cell_type": "code",
   "execution_count": 2,
   "metadata": {},
   "outputs": [
    {
     "data": {
      "text/plain": [
       "205942"
      ]
     },
     "execution_count": 2,
     "metadata": {},
     "output_type": "execute_result"
    }
   ],
   "source": [
    "pkl_list = glob(os.path.join('train', '*'))\n",
    "len(pkl_list)"
   ]
  },
  {
   "cell_type": "code",
   "execution_count": 3,
   "metadata": {},
   "outputs": [
    {
     "name": "stderr",
     "output_type": "stream",
     "text": [
      "100%|██████████| 205942/205942 [16:39<00:00, 206.07it/s]\n"
     ]
    }
   ],
   "source": [
    "X = []\n",
    "y = []\n",
    "\n",
    "for pkl_path in tqdm(pkl_list):\n",
    "    with open(pkl_path, 'rb') as f:\n",
    "        scene = pickle.load(f)\n",
    "    \n",
    "    # the index of agent to be predicted \n",
    "    pred_id = np.where(scene[\"track_id\"] == scene['agent_id'])[0][0]\n",
    "    \n",
    "    p_in_raw = scene['p_in'][pred_id]\n",
    "    p_out_raw = scene['p_out'][pred_id]\n",
    "    v_in_raw = scene['v_in'][pred_id]\n",
    "    lane_scene = scene['lane']\n",
    "    \n",
    "    # Normalization\n",
    "    min_vecs = np.min(lane_scene, axis = 0)\n",
    "    max_vecs = np.max(lane_scene, axis = 0)\n",
    "    \n",
    "    # Normalize by vectors\n",
    "    p_in_normalized = (p_in_raw - min_vecs)/(max_vecs - min_vecs)\n",
    "    p_out_normalized = (p_out_raw - min_vecs)/(max_vecs - min_vecs)\n",
    "    v_in_norm = np.linalg.norm(v_in_raw, axis=1, keepdims=True)\n",
    "    v_in_norm = np.where(v_in_norm == 0.0, 1.0, v_in_norm)\n",
    "    v_in_normalized = v_in_raw / v_in_norm\n",
    "    inp = np.concatenate((p_in_normalized,v_in_normalized),axis=1)\n",
    "\n",
    "    X.append(inp.T)\n",
    "    y.append(p_out_normalized.flatten())"
   ]
  },
  {
   "cell_type": "code",
   "execution_count": 4,
   "metadata": {},
   "outputs": [
    {
     "data": {
      "text/plain": [
       "(205942, 4, 19)"
      ]
     },
     "execution_count": 4,
     "metadata": {},
     "output_type": "execute_result"
    }
   ],
   "source": [
    "npx = np.stack(X)\n",
    "npx.shape"
   ]
  },
  {
   "cell_type": "code",
   "execution_count": 5,
   "metadata": {},
   "outputs": [
    {
     "data": {
      "text/plain": [
       "(205942, 60)"
      ]
     },
     "execution_count": 5,
     "metadata": {},
     "output_type": "execute_result"
    }
   ],
   "source": [
    "npy = np.vstack(y)\n",
    "npy.shape"
   ]
  },
  {
   "cell_type": "code",
   "execution_count": 6,
   "metadata": {},
   "outputs": [],
   "source": [
    "with open('train_X_cnn.npy', 'wb') as f:\n",
    "    np.save(f, npx)\n",
    "\n",
    "with open('train_y_cnn.npy', 'wb') as f:\n",
    "    np.save(f, npy)"
   ]
  },
  {
   "cell_type": "code",
   "execution_count": null,
   "metadata": {},
   "outputs": [],
   "source": []
  }
 ],
 "metadata": {
  "kernelspec": {
   "display_name": "base",
   "language": "python",
   "name": "python3"
  },
  "language_info": {
   "codemirror_mode": {
    "name": "ipython",
    "version": 3
   },
   "file_extension": ".py",
   "mimetype": "text/x-python",
   "name": "python",
   "nbconvert_exporter": "python",
   "pygments_lexer": "ipython3",
   "version": "3.8.8"
  },
  "orig_nbformat": 4
 },
 "nbformat": 4,
 "nbformat_minor": 2
}
